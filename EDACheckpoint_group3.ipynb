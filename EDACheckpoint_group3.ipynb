{
 "cells": [
  {
   "cell_type": "markdown",
   "id": "bdceaaf2",
   "metadata": {},
   "source": [
    "# COGS 108 - EDA Checkpoint"
   ]
  },
  {
   "cell_type": "markdown",
   "id": "3ac2ee7f",
   "metadata": {},
   "source": [
    "## Names\n",
    "- Mariam Bachar (A16217374)\n",
    "- Alexandra Hernandez (A16730685)\n",
    "- Brian Kwon (A16306826)\n",
    "- Andrew Uhm (A16729684)\n",
    "- Ethan Wang (A17229824)"
   ]
  },
  {
   "cell_type": "markdown",
   "id": "0bcd1324",
   "metadata": {},
   "source": [
    "## Research Question"
   ]
  },
  {
   "cell_type": "markdown",
   "id": "830459e8",
   "metadata": {},
   "source": [
    "Do certain keywords as identified by CLIP correlate with the popularity (as measured by the equivalent of “likes”) that artwork receives on social media?"
   ]
  },
  {
   "cell_type": "markdown",
   "id": "6769a48d",
   "metadata": {},
   "source": [
    "## Setup"
   ]
  },
  {
   "cell_type": "code",
   "execution_count": null,
   "id": "13f9de24",
   "metadata": {},
   "outputs": [],
   "source": []
  },
  {
   "cell_type": "markdown",
   "id": "fd9986bc",
   "metadata": {},
   "source": [
    "## Data Cleaning"
   ]
  },
  {
   "cell_type": "markdown",
   "id": "d938c9f9",
   "metadata": {},
   "source": [
    "How was the data cleaned (do we just reiterate what we did in the data checkpoint here?"
   ]
  },
  {
   "cell_type": "code",
   "execution_count": null,
   "id": "6038f084",
   "metadata": {},
   "outputs": [],
   "source": []
  },
  {
   "cell_type": "markdown",
   "id": "32157400",
   "metadata": {},
   "source": [
    "## Data Analysis and Results"
   ]
  },
  {
   "cell_type": "markdown",
   "id": "afc88682",
   "metadata": {},
   "source": [
    "Describe how EDA works here and what is being explored"
   ]
  },
  {
   "cell_type": "code",
   "execution_count": null,
   "id": "5dcc3c27",
   "metadata": {},
   "outputs": [],
   "source": []
  }
 ],
 "metadata": {
  "kernelspec": {
   "display_name": "Python 3 (ipykernel)",
   "language": "python",
   "name": "python3"
  },
  "language_info": {
   "codemirror_mode": {
    "name": "ipython",
    "version": 3
   },
   "file_extension": ".py",
   "mimetype": "text/x-python",
   "name": "python",
   "nbconvert_exporter": "python",
   "pygments_lexer": "ipython3",
   "version": "3.10.9"
  }
 },
 "nbformat": 4,
 "nbformat_minor": 5
}
