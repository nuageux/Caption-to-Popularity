{
 "cells": [
  {
   "cell_type": "markdown",
   "id": "26d060a5",
   "metadata": {},
   "source": [
    "# COGS 108 - Data Checkpoint"
   ]
  },
  {
   "cell_type": "markdown",
   "id": "ef44aa5e",
   "metadata": {},
   "source": [
    "# Names\n",
    "\n",
    "- Mariam Bachar (A16217374)\n",
    "- Alexandra Hernandez (A16730685)\n",
    "- Brian Kwon (A16306826)\n",
    "- Andrew Uhm (A16729684)\n",
    "- Ethan Wang (A17229824)"
   ]
  },
  {
   "cell_type": "markdown",
   "id": "270600d1",
   "metadata": {},
   "source": [
    "<a id='research_question'></a>\n",
    "# Research Question"
   ]
  },
  {
   "cell_type": "markdown",
   "id": "d7e792a5",
   "metadata": {},
   "source": [
    "*Do certain keywords as identified by CLIP correlate with the popularity (as measured by the equivalent of “likes”) that artwork receives on social media?*"
   ]
  },
  {
   "cell_type": "markdown",
   "id": "a712a88d",
   "metadata": {},
   "source": [
    "# Hypothesis"
   ]
  },
  {
   "cell_type": "markdown",
   "id": "aaa62ee1",
   "metadata": {},
   "source": [
    "We predict that digital artwork that contains certain keywords as predicted by CLIP (painting vs. watercolor vs. digital) will indeed have a positive correlation to popularity on social media. As humans observing what is popular, we notice that certain features tend to repeat themselves across posts, which leads us to believe a correlation will be found."
   ]
  },
  {
   "cell_type": "markdown",
   "id": "694c2a85",
   "metadata": {},
   "source": [
    "# Data"
   ]
  },
  {
   "cell_type": "markdown",
   "id": "000d3bd3",
   "metadata": {},
   "source": [
    "Our ideal dataset would be a representative sample of images representing most genres of art. Our variables would be the image, the caption of an image, and their associated ‘likes’. We would want a decent amount of observations spanning that representative sample aforementioned, somewhere in the ballpark of ~3000 images alongside their “like” count and the original artist’s follow count. Files can be anonymized with integer IDs. From there, we would process the images to extract the captions using CLIP and store that to the corresponding data point’s image as well. Ideally images would all be the same size. Furthermore the ideal dataset would have published dates as well in order to make comparisons to past trends. In order to define popularity, we would define it as a number of likes in proportion to the maximum number of likes in our dataset, defining it regressively instead of binarily.\n",
    "\n",
    "A real data set we could use could be from DeviantArt’s API. We acknowledge that this data is different from our ideal. For one, the images are not perfectly square. We will thus crop and size the images down to a predetermined size (e.g. 768x768) in order to normalize. DeviantArt also likely has its own culture, which means our findings may not be representative of other social media and by taking images from their home page we may not be seeing old posts. Furthermore the fields that we require are actually optional, so we would have to filter to images that actually have all the data fields we require filled out. "
   ]
  },
  {
   "cell_type": "markdown",
   "id": "38b65d18",
   "metadata": {},
   "source": [
    "# Ethics and Privacy"
   ]
  },
  {
   "cell_type": "markdown",
   "id": "c67185f9",
   "metadata": {},
   "source": [
    "There are a number of ethical concerns regarding this research question that we must be mindful of as we analyze data. The most obvious issue is that we are tagging artwork as unpopular by virtue of not identifying said artwork as popular. However, this should not be a strong issue as we are not presenting identifying pieces of information of specific pieces of artwork or individual artists, so it should not be possible to label a specific artwork or artist as “unpopular”.\n",
    "\n",
    "In terms of normalization, a possible solution would be to take a ratio between the number of likes on the artwork and the number of followers that certain artist has in order to take into account the disparity between larger artists and smaller artists in terms of popularity, as more popular artists would get more likes due to a larger audience.\n",
    "Additionally, it is entirely possible that our analysis may exclude cultural influences of minority groups. Since those residing in developed countries have more leisure time/resources (such as drawing software or drawing e-tablets), it is plausible that most digital art posted to social media is likely from developed countries. Thus, the work we analyze may disproportionately represent artwork and cultural trends of majority groups of developed countries while glossing over minority groups, which tend to be similar across developed countries. \n",
    "\n",
    "Finally, because the artworks are on a public forum, they have consented to allowing their art to be analyzed. The Deviantart TOS states that you cannot  “reproduce, distribute, publicly display or perform, or prepare derivative works”, which does not include the use of the artworks for an analytic survey. \n",
    "Although there is no clear-cut solution for this, it serves us well to keep this fact in mind when drawing conclusions upon our analyses."
   ]
  },
  {
   "cell_type": "markdown",
   "id": "36f04152",
   "metadata": {},
   "source": [
    "# Dataset(s)"
   ]
  },
  {
   "cell_type": "markdown",
   "id": "f4e40258",
   "metadata": {},
   "source": [
    "*Fill in your dataset information here*\n",
    "\n",
    "(Copy this information for each dataset)\n",
    "- Dataset Name:\n",
    "- Link to the dataset:\n",
    "- Number of observations:\n",
    "\n",
    "1-2 sentences describing each dataset. \n",
    "\n",
    "If you plan to use multiple datasets, add 1-2 sentences about how you plan to combine these datasets."
   ]
  },
  {
   "cell_type": "markdown",
   "id": "9aa97586",
   "metadata": {},
   "source": [
    "# Setup"
   ]
  },
  {
   "cell_type": "code",
   "execution_count": 171,
   "id": "e046bdc4",
   "metadata": {
    "scrolled": true
   },
   "outputs": [
    {
     "name": "stderr",
     "output_type": "stream",
     "text": [
      "C:\\Users\\Ezkiri\\AppData\\Local\\Temp\\ipykernel_28860\\2752974193.py:68: FutureWarning: The frame.append method is deprecated and will be removed from pandas in a future version. Use pandas.concat instead.\n",
      "  data = data.append(row, ignore_index=True)\n",
      "C:\\Users\\Ezkiri\\AppData\\Local\\Temp\\ipykernel_28860\\2752974193.py:68: FutureWarning: The frame.append method is deprecated and will be removed from pandas in a future version. Use pandas.concat instead.\n",
      "  data = data.append(row, ignore_index=True)\n",
      "C:\\Users\\Ezkiri\\AppData\\Local\\Temp\\ipykernel_28860\\2752974193.py:68: FutureWarning: The frame.append method is deprecated and will be removed from pandas in a future version. Use pandas.concat instead.\n",
      "  data = data.append(row, ignore_index=True)\n",
      "C:\\Users\\Ezkiri\\AppData\\Local\\Temp\\ipykernel_28860\\2752974193.py:68: FutureWarning: The frame.append method is deprecated and will be removed from pandas in a future version. Use pandas.concat instead.\n",
      "  data = data.append(row, ignore_index=True)\n",
      "C:\\Users\\Ezkiri\\AppData\\Local\\Temp\\ipykernel_28860\\2752974193.py:68: FutureWarning: The frame.append method is deprecated and will be removed from pandas in a future version. Use pandas.concat instead.\n",
      "  data = data.append(row, ignore_index=True)\n",
      "C:\\Users\\Ezkiri\\AppData\\Local\\Temp\\ipykernel_28860\\2752974193.py:68: FutureWarning: The frame.append method is deprecated and will be removed from pandas in a future version. Use pandas.concat instead.\n",
      "  data = data.append(row, ignore_index=True)\n",
      "C:\\Users\\Ezkiri\\AppData\\Local\\Temp\\ipykernel_28860\\2752974193.py:68: FutureWarning: The frame.append method is deprecated and will be removed from pandas in a future version. Use pandas.concat instead.\n",
      "  data = data.append(row, ignore_index=True)\n",
      "C:\\Users\\Ezkiri\\AppData\\Local\\Temp\\ipykernel_28860\\2752974193.py:68: FutureWarning: The frame.append method is deprecated and will be removed from pandas in a future version. Use pandas.concat instead.\n",
      "  data = data.append(row, ignore_index=True)\n",
      "C:\\Users\\Ezkiri\\AppData\\Local\\Temp\\ipykernel_28860\\2752974193.py:68: FutureWarning: The frame.append method is deprecated and will be removed from pandas in a future version. Use pandas.concat instead.\n",
      "  data = data.append(row, ignore_index=True)\n",
      "C:\\Users\\Ezkiri\\AppData\\Local\\Temp\\ipykernel_28860\\2752974193.py:68: FutureWarning: The frame.append method is deprecated and will be removed from pandas in a future version. Use pandas.concat instead.\n",
      "  data = data.append(row, ignore_index=True)\n"
     ]
    }
   ],
   "source": [
    "#pip install:\n",
    "    # requests, deviantart, \n",
    "\n",
    "#resources:\n",
    "    # https://www.deviantart.com/developers/http/v1/20210526\n",
    "    # https://github.com/neighbordog/deviantart\n",
    "    \n",
    "import requests\n",
    "import urllib\n",
    "from bs4 import BeautifulSoup\n",
    "import deviantart\n",
    "from datetime import datetime\n",
    "import time\n",
    "import pandas as pd\n",
    "\n",
    "#please use your own client id and client secret to getting all of us IP banned lol. Shouldn't happen but might.\n",
    "da = deviantart.Api(\"25492\", \"06217cf59e73b401dc0a14d00857a793\")\n",
    "#your access token = da.access_token\n",
    "\n",
    "#this block reads in the file if it exists, if it doesn't it creates it.\n",
    "csv_file = 'deviation_info.csv'\n",
    "try:\n",
    "    data = pd.read_csv(csv_file)\n",
    "except FileNotFoundError:\n",
    "    data = pd.DataFrame()\n",
    "\n",
    "for i in range(0,1):\n",
    "    #grabs 10 images starting from the i*10 + 1 index.\n",
    "    deviations = da.browse(endpoint='popular', offset=i*10, limit=10)['results']\n",
    "    \n",
    "    for deviation in deviations:\n",
    "        #the url of the image itself is here.\n",
    "        url = deviation.content['src']\n",
    "        #saves image to file by deviation id.\n",
    "        dId = deviation.deviationid\n",
    "        urllib.request.urlretrieve(url, f\"images/{dId}.png\")\n",
    "        \n",
    "        #these serve as examples of how to make a request when the python wrapper fails you.\n",
    "        username = deviation.author.username\n",
    "        request = f\"https://www.deviantart.com/api/v1/oauth2/user/profile/{username}?access_token={da.access_token}&expand=user.stats\"\n",
    "        response = requests.get(request)\n",
    "        authorData = response.json()\n",
    "        authorWatchers = authorData['user']['stats']['watchers']\n",
    "        #authorPageViews = authorData['stats']['profile_pageviews'] #not deemed necessary.\n",
    "        authorDeviations = authorData['stats']['user_deviations']\n",
    "        \n",
    "        request = f\"https://www.deviantart.com/api/v1/oauth2/deviation/metadata?access_token={da.access_token}&deviationids={deviation}&ext_stats=True\"\n",
    "        response = requests.get(request)\n",
    "        metaData = response.json()\n",
    "        views = metaData['metadata'][0]['stats']['views']\n",
    "        \n",
    "        row = {\n",
    "            #gathering all other data we can possibly gather.\n",
    "            'Deviation ID': deviation.deviationid,\n",
    "            'Title': deviation.title,\n",
    "            'Author': deviation.author,\n",
    "            'Views': views,\n",
    "            'Favorites': deviation.stats['favourites'],\n",
    "            'Comments': deviation.stats['comments'],\n",
    "            'URL Link': deviation.url,\n",
    "            'Date Posted': datetime.fromtimestamp(int(dailydeviations[0].published_time)),\n",
    "            'Height': deviation.content['height'],\n",
    "            'Width': deviation.content['width'],\n",
    "            'File Size': deviation.content['filesize'],\n",
    "            'Author Watchers': authorWatchers,\n",
    "            'Author Deviations': authorDeviations\n",
    "        }\n",
    "        data = data.append(row, ignore_index=True)\n",
    "        \n",
    "    #time.sleep(15) #sleep 15 seconds to avoid deviantart rate limiting us.\n",
    "    \n",
    "    #when run multiple tops, duplicates will crop up. This removes them.\n",
    "    #turns out that the src differs sometimes, so it will still duplicate.\n",
    "    data = data.drop_duplicates()\n",
    "\n",
    "data.to_csv('deviation_info.csv', index=False)"
   ]
  },
  {
   "cell_type": "markdown",
   "id": "533bc734",
   "metadata": {},
   "source": [
    "# Data Cleaning"
   ]
  },
  {
   "cell_type": "markdown",
   "id": "0133e3eb",
   "metadata": {},
   "source": [
    "Describe your data cleaning steps here."
   ]
  },
  {
   "cell_type": "code",
   "execution_count": 3,
   "id": "810eb7bb",
   "metadata": {},
   "outputs": [],
   "source": [
    "# code (can have multiple)"
   ]
  }
 ],
 "metadata": {
  "kernelspec": {
   "display_name": "Python 3 (ipykernel)",
   "language": "python",
   "name": "python3"
  },
  "language_info": {
   "codemirror_mode": {
    "name": "ipython",
    "version": 3
   },
   "file_extension": ".py",
   "mimetype": "text/x-python",
   "name": "python",
   "nbconvert_exporter": "python",
   "pygments_lexer": "ipython3",
   "version": "3.9.5"
  }
 },
 "nbformat": 4,
 "nbformat_minor": 5
}
