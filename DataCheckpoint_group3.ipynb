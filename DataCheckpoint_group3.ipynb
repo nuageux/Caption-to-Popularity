{
 "cells": [
  {
   "cell_type": "markdown",
   "id": "26d060a5",
   "metadata": {},
   "source": [
    "# COGS 108 - Data Checkpoint"
   ]
  },
  {
   "cell_type": "markdown",
   "id": "ef44aa5e",
   "metadata": {},
   "source": [
    "# Names\n",
    "\n",
    "- Mariam Bachar (A16217374)\n",
    "- Alexandra Hernandez (A16730685)\n",
    "- Brian Kwon (A16306826)\n",
    "- Andrew Uhm (A16729684)\n",
    "- Ethan Wang (A17229824)"
   ]
  },
  {
   "cell_type": "markdown",
   "id": "270600d1",
   "metadata": {},
   "source": [
    "<a id='research_question'></a>\n",
    "# Research Question"
   ]
  },
  {
   "cell_type": "markdown",
   "id": "d7e792a5",
   "metadata": {},
   "source": [
    "*Do certain keywords as identified by CLIP correlate with the popularity (as measured by the equivalent of “likes”) that artwork receives on social media?*"
   ]
  },
  {
   "cell_type": "markdown",
   "id": "36f04152",
   "metadata": {},
   "source": [
    "# Dataset(s)"
   ]
  },
  {
   "cell_type": "markdown",
   "id": "f4e40258",
   "metadata": {},
   "source": [
    "*Fill in your dataset information here*\n",
    "\n",
    "(Copy this information for each dataset)\n",
    "- Dataset Name:\n",
    "- Link to the dataset:\n",
    "- Number of observations:\n",
    "\n",
    "1-2 sentences describing each dataset. \n",
    "\n",
    "If you plan to use multiple datasets, add 1-2 sentences about how you plan to combine these datasets."
   ]
  },
  {
   "cell_type": "markdown",
   "id": "9aa97586",
   "metadata": {},
   "source": [
    "# Setup"
   ]
  },
  {
   "cell_type": "code",
   "execution_count": 47,
   "id": "e046bdc4",
   "metadata": {},
   "outputs": [
    {
     "name": "stdout",
     "output_type": "stream",
     "text": [
      "https://www.deviantart.com/cryptid-creations/art/3244-Mimikyu-Fan-Art-958059784\n",
      "https://www.deviantart.com/tc-96/art/Mother-s-Day-2023-962405128\n",
      "https://www.deviantart.com/cryptid-creations/art/3245-Light-Jolteon-TCG-Fan-Art-958059861\n",
      "https://www.deviantart.com/apofiss/art/sneaky-bud-962602943\n",
      "https://www.deviantart.com/loulouvz/art/Moushley-Fanart-961968477\n",
      "https://www.deviantart.com/rongs1234/art/Splash-pose-962047244\n",
      "https://www.deviantart.com/outcastcomix/art/Happy-Mother-s-Day-2023-962447151\n",
      "https://www.deviantart.com/senchafox/art/Lavender-Dreams-Adoptable-961901277\n",
      "https://www.deviantart.com/neldorwen/art/Commission-Yor-Forger-961879310\n",
      "https://www.deviantart.com/anatofinnstark/art/The-Eclipse-Knight-962145757\n"
     ]
    }
   ],
   "source": [
    "import requests\n",
    "import urllib\n",
    "from bs4 import BeautifulSoup\n",
    "import deviantart\n",
    "from datetime import datetime\n",
    "import time\n",
    "\n",
    "#please use your own client id and client secret to getting all of us IP banned lol. Shouldn't happen but might.\n",
    "da = deviantart.Api(\"25492\", \"06217cf59e73b401dc0a14d00857a793\")\n",
    "\n",
    "\n",
    "for i in range(0,1):\n",
    "    deviations = da.browse(endpoint='popular', offset=i*10, limit=10)['results']\n",
    "\n",
    "    for deviation in deviations:\n",
    "        url = deviation.content['src']\n",
    "        dId = deviation.deviationid\n",
    "        urllib.request.urlretrieve(url, f\"images/{dId}.png\")\n",
    "        \n",
    "    time.sleep(15) #sleep 15 seconds to avoid deviantart throttling us.\n",
    "    \n",
    "\n",
    "#Possible things to collect:\n",
    "#-----------------------------\n",
    "#url = deviation.content['src']\n",
    "#deviation.title\n",
    "#deviation.author\n",
    "#deviation.deviationid\n",
    "#deviation.stats['favorites']\n",
    "#deviation.stats['comments']\n",
    "#deviation.url\n",
    "#dt = datetime.fromtimestamp(int(dailydeviations[0].published_time)))"
   ]
  },
  {
   "cell_type": "markdown",
   "id": "533bc734",
   "metadata": {},
   "source": [
    "# Data Cleaning"
   ]
  },
  {
   "cell_type": "markdown",
   "id": "0133e3eb",
   "metadata": {},
   "source": [
    "Describe your data cleaning steps here."
   ]
  },
  {
   "cell_type": "code",
   "execution_count": 3,
   "id": "810eb7bb",
   "metadata": {},
   "outputs": [],
   "source": [
    "# code (can have multiple)"
   ]
  }
 ],
 "metadata": {
  "kernelspec": {
   "display_name": "Python 3 (ipykernel)",
   "language": "python",
   "name": "python3"
  },
  "language_info": {
   "codemirror_mode": {
    "name": "ipython",
    "version": 3
   },
   "file_extension": ".py",
   "mimetype": "text/x-python",
   "name": "python",
   "nbconvert_exporter": "python",
   "pygments_lexer": "ipython3",
   "version": "3.9.12"
  }
 },
 "nbformat": 4,
 "nbformat_minor": 5
}
