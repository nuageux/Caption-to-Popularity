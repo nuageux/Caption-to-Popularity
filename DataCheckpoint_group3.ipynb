{
 "cells": [
  {
   "cell_type": "markdown",
   "id": "26d060a5",
   "metadata": {},
   "source": [
    "# COGS 108 - Data Checkpoint"
   ]
  },
  {
   "cell_type": "markdown",
   "id": "ef44aa5e",
   "metadata": {},
   "source": [
    "# Names\n",
    "\n",
    "- Mariam Bachar (A16217374)\n",
    "- Alexandra Hernandez (A16730685)\n",
    "- Brian Kwon (A16306826)\n",
    "- Andrew Uhm (A16729684)\n",
    "- Ethan Wang (A17229824)"
   ]
  },
  {
   "cell_type": "markdown",
   "id": "270600d1",
   "metadata": {},
   "source": [
    "<a id='research_question'></a>\n",
    "# Research Question"
   ]
  },
  {
   "cell_type": "markdown",
   "id": "d7e792a5",
   "metadata": {},
   "source": [
    "*Do certain keywords as identified by CLIP correlate with the popularity (as measured by the equivalent of “likes”) that artwork receives on social media?*"
   ]
  },
  {
   "cell_type": "markdown",
   "id": "36f04152",
   "metadata": {},
   "source": [
    "# Dataset(s)"
   ]
  },
  {
   "cell_type": "markdown",
   "id": "f4e40258",
   "metadata": {},
   "source": [
    "*Fill in your dataset information here*\n",
    "\n",
    "(Copy this information for each dataset)\n",
    "- Dataset Name:\n",
    "- Link to the dataset:\n",
    "- Number of observations:\n",
    "\n",
    "1-2 sentences describing each dataset. \n",
    "\n",
    "If you plan to use multiple datasets, add 1-2 sentences about how you plan to combine these datasets."
   ]
  },
  {
   "cell_type": "markdown",
   "id": "9aa97586",
   "metadata": {},
   "source": [
    "# Setup"
   ]
  },
  {
   "cell_type": "code",
   "execution_count": 144,
   "id": "e046bdc4",
   "metadata": {
    "scrolled": true
   },
   "outputs": [
    {
     "name": "stderr",
     "output_type": "stream",
     "text": [
      "C:\\Users\\Ezkiri\\AppData\\Local\\Temp\\ipykernel_28860\\800535801.py:57: FutureWarning: The frame.append method is deprecated and will be removed from pandas in a future version. Use pandas.concat instead.\n",
      "  data = data.append(row, ignore_index=True)\n",
      "C:\\Users\\Ezkiri\\AppData\\Local\\Temp\\ipykernel_28860\\800535801.py:57: FutureWarning: The frame.append method is deprecated and will be removed from pandas in a future version. Use pandas.concat instead.\n",
      "  data = data.append(row, ignore_index=True)\n",
      "C:\\Users\\Ezkiri\\AppData\\Local\\Temp\\ipykernel_28860\\800535801.py:57: FutureWarning: The frame.append method is deprecated and will be removed from pandas in a future version. Use pandas.concat instead.\n",
      "  data = data.append(row, ignore_index=True)\n",
      "C:\\Users\\Ezkiri\\AppData\\Local\\Temp\\ipykernel_28860\\800535801.py:57: FutureWarning: The frame.append method is deprecated and will be removed from pandas in a future version. Use pandas.concat instead.\n",
      "  data = data.append(row, ignore_index=True)\n",
      "C:\\Users\\Ezkiri\\AppData\\Local\\Temp\\ipykernel_28860\\800535801.py:57: FutureWarning: The frame.append method is deprecated and will be removed from pandas in a future version. Use pandas.concat instead.\n",
      "  data = data.append(row, ignore_index=True)\n",
      "C:\\Users\\Ezkiri\\AppData\\Local\\Temp\\ipykernel_28860\\800535801.py:57: FutureWarning: The frame.append method is deprecated and will be removed from pandas in a future version. Use pandas.concat instead.\n",
      "  data = data.append(row, ignore_index=True)\n",
      "C:\\Users\\Ezkiri\\AppData\\Local\\Temp\\ipykernel_28860\\800535801.py:57: FutureWarning: The frame.append method is deprecated and will be removed from pandas in a future version. Use pandas.concat instead.\n",
      "  data = data.append(row, ignore_index=True)\n",
      "C:\\Users\\Ezkiri\\AppData\\Local\\Temp\\ipykernel_28860\\800535801.py:57: FutureWarning: The frame.append method is deprecated and will be removed from pandas in a future version. Use pandas.concat instead.\n",
      "  data = data.append(row, ignore_index=True)\n",
      "C:\\Users\\Ezkiri\\AppData\\Local\\Temp\\ipykernel_28860\\800535801.py:57: FutureWarning: The frame.append method is deprecated and will be removed from pandas in a future version. Use pandas.concat instead.\n",
      "  data = data.append(row, ignore_index=True)\n",
      "C:\\Users\\Ezkiri\\AppData\\Local\\Temp\\ipykernel_28860\\800535801.py:57: FutureWarning: The frame.append method is deprecated and will be removed from pandas in a future version. Use pandas.concat instead.\n",
      "  data = data.append(row, ignore_index=True)\n"
     ]
    }
   ],
   "source": [
    "#pip install:\n",
    "    # requests, deviantart, \n",
    "\n",
    "#resources:\n",
    "    # https://www.deviantart.com/developers/http/v1/20210526\n",
    "    # https://github.com/neighbordog/deviantart\n",
    "    \n",
    "import requests\n",
    "import urllib\n",
    "from bs4 import BeautifulSoup\n",
    "import deviantart\n",
    "from datetime import datetime\n",
    "import time\n",
    "import pandas as pd\n",
    "\n",
    "#please use your own client id and client secret to getting all of us IP banned lol. Shouldn't happen but might.\n",
    "da = deviantart.Api(\"25492\", \"06217cf59e73b401dc0a14d00857a793\")\n",
    "#your access token = da.access_token\n",
    "\n",
    "#this block reads in the file if it exists, if it doesn't it creates it.\n",
    "csv_file = 'deviation_info.csv'\n",
    "try:\n",
    "    data = pd.read_csv(csv_file)\n",
    "except FileNotFoundError:\n",
    "    data = pd.DataFrame()\n",
    "\n",
    "for i in range(0,1):\n",
    "    #grabs 10 images starting from the i*10 + 1 index.\n",
    "    deviations = da.browse(endpoint='popular', offset=i*10, limit=10)['results']\n",
    "    \n",
    "    for deviation in deviations:\n",
    "        #the url of the image itself is here.\n",
    "        url = deviation.content['src']\n",
    "        #saves image by deviation id.\n",
    "        dId = deviation.deviationid\n",
    "        urllib.request.urlretrieve(url, f\"images/{dId}.png\")\n",
    "        \n",
    "        #this serves as an example of how to make a request when the python wrapper fails you.\n",
    "        username = deviation.author.username\n",
    "        request = f\"https://www.deviantart.com/api/v1/oauth2/user/profile/{username}?access_token={da.access_token}&expand=user.stats\"\n",
    "        response = requests.get(request)\n",
    "        authorData = response.json()\n",
    "        authorWatchers = authorData['user']['stats']['watchers']\n",
    "        #authorPageViews = authorData['stats']['profile_pageviews'] #not deemed necessary.\n",
    "        authorDeviations = authorData['stats']['user_deviations']\n",
    "        \n",
    "        row = {\n",
    "            #gathering all other data we can possibly gather.\n",
    "            'Deviation ID': deviation.deviationid,\n",
    "            'URL': deviation.content['src'],\n",
    "            'Title': deviation.title,\n",
    "            'Author': deviation.author,\n",
    "            'Favorites': deviation.stats['favourites'],\n",
    "            'Comments': deviation.stats['comments'],\n",
    "            'URL Link': deviation.url,\n",
    "            'Date Posted': datetime.fromtimestamp(int(dailydeviations[0].published_time)),\n",
    "            'File Size': deviation.content['filesize'],\n",
    "            'Author Watchers': authorWatchers,\n",
    "            'Author Deviations': authorDeviations\n",
    "        }\n",
    "        data = data.append(row, ignore_index=True)\n",
    "        \n",
    "    #time.sleep(15) #sleep 15 seconds to avoid deviantart rate limiting us.\n",
    "    \n",
    "    #when run multiple tops, duplicates will crop up. This removes them.\n",
    "    data = data.drop_duplicates()\n",
    "\n",
    "data.to_csv('deviation_info.csv', index=False)"
   ]
  },
  {
   "cell_type": "markdown",
   "id": "533bc734",
   "metadata": {},
   "source": [
    "# Data Cleaning"
   ]
  },
  {
   "cell_type": "markdown",
   "id": "0133e3eb",
   "metadata": {},
   "source": [
    "Describe your data cleaning steps here."
   ]
  },
  {
   "cell_type": "code",
   "execution_count": 3,
   "id": "810eb7bb",
   "metadata": {},
   "outputs": [],
   "source": [
    "# code (can have multiple)"
   ]
  }
 ],
 "metadata": {
  "kernelspec": {
   "display_name": "Python 3 (ipykernel)",
   "language": "python",
   "name": "python3"
  },
  "language_info": {
   "codemirror_mode": {
    "name": "ipython",
    "version": 3
   },
   "file_extension": ".py",
   "mimetype": "text/x-python",
   "name": "python",
   "nbconvert_exporter": "python",
   "pygments_lexer": "ipython3",
   "version": "3.9.12"
  }
 },
 "nbformat": 4,
 "nbformat_minor": 5
}
