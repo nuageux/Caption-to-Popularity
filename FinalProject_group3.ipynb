{
 "cells": [
  {
   "cell_type": "markdown",
   "metadata": {},
   "source": [
    "# COGS 108 - Final Project (change this to your project's title)"
   ]
  },
  {
   "cell_type": "markdown",
   "metadata": {},
   "source": [
    "## Permissions\n",
    "\n",
    "Place an `X` in the appropriate bracket below to specify if you would like your group's project to be made available to the public. (Note that student names will be included (but PIDs will be scraped from any groups who include their PIDs).\n",
    "\n",
    "* [X] YES - make available\n",
    "* [ ] NO - keep private"
   ]
  },
  {
   "cell_type": "markdown",
   "metadata": {},
   "source": [
    "# Overview"
   ]
  },
  {
   "cell_type": "code",
   "execution_count": 1,
   "metadata": {},
   "outputs": [],
   "source": [
    "# TODO"
   ]
  },
  {
   "cell_type": "markdown",
   "metadata": {},
   "source": [
    "# Names\n",
    "\n",
    "- Mariam Bachar (A16217374)\n",
    "- Alexandra Hernandez (A16730685)\n",
    "- Brian Kwon (A16306826)\n",
    "- Andrew Uhm (A16729684)\n",
    "- Ethan Wang (A17229824)"
   ]
  },
  {
   "cell_type": "markdown",
   "metadata": {},
   "source": [
    "<a id='research_question'></a>\n",
    "# Research Question"
   ]
  },
  {
   "cell_type": "markdown",
   "metadata": {},
   "source": [
    "Do certain keywords as identified by CLIP correlate with the popularity (as measured by the equivalent of “likes”) that artwork receives on social media?"
   ]
  },
  {
   "cell_type": "markdown",
   "metadata": {},
   "source": [
    "<a id='background'></a>\n",
    "\n",
    "## Background & Prior Work"
   ]
  },
  {
   "cell_type": "markdown",
   "metadata": {},
   "source": [
    "With the rise of social media in the past decade, Internet users are constantly exposed to different types of media, especially digital art. To interact with them, users can  “like” and “comment” on another’s content, which also notifies the owner of their received feedback. In turn, the algorithm not only encourages users to continue seeing content from the original user, but also similar “liked” content from different users (Lua, 2023). As a result, social media algorithms–despite having the same code throughout–are customized to each user, showing them content that is relevant to them, based on their past interactions with other accounts and users. Furthermore, these processes incorporate machine learning algorithms, such as feature detection and sentiment classification to better pinpoint content and users that an individual will most likely interact with, boosting engagement for both the receiving user–and the social media itself (T.K. et al., 2021).\n",
    "\n",
    "As social media continues to grow, there continues to be several cases done on the usage of social media algorithms and their role in user engagement. Especially with the introduction of new feature detection technologies–and Artificial Intelligence (AI)–the study field has developed exponentially. In Radion Purba et. al. 's “Instagram Post Popularity Trend Analysis and Prediction” (2020) they looked into social media popularity predictions for marketing purposes; particularly, their research methodology discussed provided a similar workflow to our posed research question. They also discussed definitions of popularity, derived from the data collected. However, the main difference is the study done using hashtags (Radion Purba et al., 2020); we would incorporate AI-generated descriptions of relevant artwork. Similarly, Kafritsas's “CLIP: The Most Influential AI Model from OpenAI and How To Use It” (2022)  details the AI software we plan to use for our data generation. It involves the  AI, CLIP, showcasing  examples of its function, and describes common use cases. CLIP is not necessarily as accurate as other supervised learning models and lacks some context interpreting ability. As we plan to use similar AI technologies in our research, Kafritsas’s usage of CLIP primes us for its use in a concise manner while also precautions us on making certain assumptions when making our analyses.\n",
    "\n",
    "**References**\n",
    "1. Lua, A. (2023, April 20). How the Instagram Algorithm Works in 2023: Everything You Need to Know. Buffer Library; Buffer Library. https://buffer.com/library/instagram-feed-algorithm/#how-does-the-instagram-algorithm-work-the-6-key-ranking-factors\n",
    "\n",
    "2. T.K., B., Annavarapu, C. S. R., & Bablani, A. (2021). Machine learning algorithms for social media analysis: A survey. Computer Science Review, 100395. https://doi.org/10.1016/j.cosrev.2021.100395\n",
    "\n",
    "3. Radion Purba, K., Asirvatham, D., & Kumar Murugesan, R. (2020). Instagram Post Popularity Trend Analysis and Prediction using Hashtag, Image Assessment, and User History Features. The International Arab Journal of Information Technology, 1. https://doi.org/10.34028/iajit/18/1/10\n",
    "\n",
    "4. Kafritsas, N. (2022). CLIP: The Most Influential AI Model From OpenAI — And How To Use It. Medium; Towards Data Science. https://towardsdatascience.com/clip-the-most-influential-ai-model-from-openai-and-how-to-use-it-f8ee408958b1"
   ]
  },
  {
   "cell_type": "markdown",
   "metadata": {},
   "source": [
    "# Hypothesis\n"
   ]
  },
  {
   "cell_type": "markdown",
   "metadata": {},
   "source": [
    "We predict that digital artwork that contains certain keywords as predicted by CLIP (painting vs. watercolor vs. digital) will indeed have a positive correlation to popularity on social media. As humans observing what is popular, we notice that certain features tend to repeat themselves across posts, which leads us to believe a correlation will be found."
   ]
  },
  {
   "cell_type": "markdown",
   "metadata": {},
   "source": [
    "# Dataset(s)"
   ]
  },
  {
   "cell_type": "markdown",
   "metadata": {},
   "source": [
    "- Dataset Name: deviation_info\n",
    "- Link to the dataset: https://github.com/COGS108/Group_Sp23_Project_Group_3/blob/master/deviation_info.csv\n",
    "- Number of observations: 1188\n",
    "\n",
    "This dataset is a set of deviations (that is images from deviantart) that contain deviation ids and metadata about the deviation itself as well as the author. It does not include the actual images.\n",
    "\n",
    "- Dataset Name: caption_info\n",
    "- Link to the dataset: https://github.com/COGS108/Group_Sp23_Project_Group_3/blob/master/caption_info.csv\n",
    "- Number of observations: 1188\n",
    "\n",
    "This dataset is a set of captions processed from the image, corresponding to a deviation id. It was processed using the CLIP interrogator in Automatic1111's stable diffusion webui.\n",
    "\n",
    "- Dataset Name: images\n",
    "- Link to the dataset: https://github.com/COGS108/Group_Sp23_Project_Group_3/tree/master/images\n",
    "- Number of observations: 1198\n",
    "\n",
    "This dataset is a directory of images in png format that are named based on their corresponding deviation ids, it contains the actual images. There are 10 extra images in here that aren't found in our other datasets.\n",
    "\n",
    "All of the datasets were built from scraping, and use deviation ids as their identifiers. Because of this, we can easily add them together based on those deviation ids if necessary."
   ]
  },
  {
   "cell_type": "markdown",
   "metadata": {},
   "source": [
    "# Setup"
   ]
  },
  {
   "cell_type": "code",
   "execution_count": 2,
   "metadata": {},
   "outputs": [],
   "source": [
    "import numpy as np\n",
    "import pandas as pd\n",
    "import seaborn as sns\n",
    "import matplotlib.pyplot as plt\n",
    "from scipy.stats import rankdata\n",
    "\n",
    "import requests\n",
    "import urllib\n",
    "from bs4 import BeautifulSoup\n",
    "import deviantart\n",
    "\n",
    "import time\n",
    "from datetime import datetime\n",
    "from pathlib import Path\n",
    "\n",
    "import json\n",
    "from PIL import Image\n",
    "import base64\n",
    "import cv2\n",
    "\n",
    "import nltk\n",
    "nltk.download('stopwords', quiet=True)\n",
    "nltk.download('punkt', quiet=True)\n",
    "from nltk.corpus import stopwords\n",
    "from nltk.tokenize import word_tokenize\n",
    "from sklearn.feature_extraction.text import CountVectorizer, TfidfVectorizer\n",
    "\n",
    "from IPython.display import Image, display\n",
    "import warnings\n",
    "warnings.filterwarnings('ignore')\n",
    "\n",
    "# DeviantArt API: https://www.deviantart.com/developers/http/v1/20210526\n",
    "# Open-Source Python wrapper for DA API: https://github.com/neighbordog/deviantart"
   ]
  },
  {
   "cell_type": "code",
   "execution_count": 3,
   "metadata": {},
   "outputs": [],
   "source": [
    "# creates a pd df from the CSV file if it exists, else creates a blank df.\n",
    "csv_file = 'deviation_info.csv'\n",
    "try:\n",
    "    deviation_df = pd.read_csv(csv_file)\n",
    "except FileNotFoundError:\n",
    "    deviation_df = pd.DataFrame()"
   ]
  },
  {
   "cell_type": "raw",
   "metadata": {},
   "source": [
    "# README: use your own token\n",
    "cur_access = None"
   ]
  },
  {
   "cell_type": "raw",
   "metadata": {},
   "source": [
    "# how many images we want to fetch * 10\n",
    "n = 120"
   ]
  },
  {
   "cell_type": "raw",
   "metadata": {},
   "source": [
    "for i in range(n):\n",
    "    print('on iteration', i, '* 10')\n",
    "    # grab 10 images at a time. DeviantArt calls their posts \"deviations\".\n",
    "    deviations = cur_access.browse(endpoint='popular', timerange='alltime', offset=i*10, limit=10)['results']\n",
    "    \n",
    "    for deviation in deviations:\n",
    "        # saves image to file by deviation id using url for local CLIP analysis\n",
    "        if deviation.content is None:\n",
    "            print('null deviation on iteration', i)\n",
    "            continue\n",
    "        url = deviation.content['src']\n",
    "        dId = deviation.deviationid\n",
    "        filename = f\"images/{dId}.png\"\n",
    "        path = Path(filename)\n",
    "        if path.is_file():\n",
    "            pass\n",
    "        else:\n",
    "            open(filename, 'w').close()\n",
    "            urllib.request.urlretrieve(url, filename)\n",
    "        \n",
    "        # these serve as examples of how to make a request when the python wrapper doesn't work\n",
    "        username = deviation.author.username\n",
    "        request = f\"https://www.deviantart.com/api/v1/oauth2/user/profile/{username}?access_token={cur_access.access_token}&expand=user.stats\"\n",
    "        response = requests.get(request)\n",
    "        authorData = response.json()\n",
    "        authorWatchers = authorData['user']['stats']['watchers']\n",
    "        authorPageViews = authorData['stats']['profile_pageviews'] # deemed unnecessary?\n",
    "        authorDeviations = authorData['stats']['user_deviations']\n",
    "        \n",
    "        request = f\"https://www.deviantart.com/api/v1/oauth2/deviation/metadata?access_token={cur_access.access_token}&deviationids={deviation}&ext_stats=True\"\n",
    "        response = requests.get(request)\n",
    "        metaData = response.json()\n",
    "        views = metaData['metadata'][0]['stats']['views']\n",
    "        \n",
    "        # gathering relevant data, turning it into a new observation.\n",
    "        row = {\n",
    "            'Deviation ID': deviation.deviationid,\n",
    "            'Title': deviation.title,\n",
    "            'Author': deviation.author,\n",
    "            'Views': views,\n",
    "            'Favorites': deviation.stats['favourites'],\n",
    "            'Comments': deviation.stats['comments'],\n",
    "            'URL Link': deviation.url,\n",
    "            'Date Posted': datetime.fromtimestamp(int(deviation.published_time)),\n",
    "            'Height': deviation.content['height'],\n",
    "            'Width': deviation.content['width'],\n",
    "            'File Size': deviation.content['filesize'],\n",
    "            'Author Watchers': authorWatchers,\n",
    "            'Author Page Views': authorPageViews,\n",
    "            'Author Deviations': authorDeviations\n",
    "        }\n",
    "        row_df = pd.DataFrame(row, index=[0])\n",
    "        deviation_df = pd.concat([deviation_df, row_df], ignore_index=True)\n",
    "        \n",
    "    # when running on the most popular posts, we will likely get duplicates. remove them.\n",
    "    deviation_df = deviation_df.drop_duplicates(subset='Deviation ID')\n",
    "    \n",
    "    # grab every 15 seconds in order to adhere to DeviantArt fetch rate.\n",
    "    if n > 1:\n",
    "        time.sleep(15)"
   ]
  },
  {
   "cell_type": "raw",
   "metadata": {},
   "source": [
    "# put our dataframe into a CSV file so scraping can be collaborative.\n",
    "# to_csv overwrites but should be OK since we are reading from the CSV to populate the dataframe anyways.\n",
    "deviation_df.to_csv('deviation_info.csv', index=False)"
   ]
  },
  {
   "cell_type": "raw",
   "metadata": {},
   "source": [
    "# setting up dataframe for captions.\n",
    "csv_file = 'caption_info.csv'\n",
    "try:\n",
    "    caption_df = pd.read_csv(csv_file)\n",
    "except FileNotFoundError:\n",
    "    caption_df = pd.DataFrame()\n",
    "\n",
    "# this is so we can start farther down if we get an error.\n",
    "j = 700\n",
    "subset_df = deviation_df[j:]\n",
    "# save every n captions.\n",
    "n = 10\n",
    "\n",
    "i = 0\n",
    "for deviation in subset_df.values:\n",
    "    dId = deviation[0]\n",
    "    image = Image.open(f\"images/{dId}.png\")\n",
    "    \n",
    "    # https://www.reddit.com/r/StableDiffusion/comments/11f938k/using_automatic1111_apis_for_clip/\n",
    "    # https://stackoverflow.com/questions/52494592/wrong-colours-with-cv2-imdecode-python-opencv\n",
    "    # below converts image into string to pass through API.\n",
    "    # --------------------------------------------------------------\n",
    "    cv2_image = np.array(image)\n",
    "    cv2_image = cv2.cvtColor(cv2_image, cv2.COLOR_BGR2RGB)\n",
    "    _, buffer = cv2.imencode('.png', cv2_image)\n",
    "    input_image = base64.b64encode(buffer).decode('utf-8')\n",
    "\n",
    "    url = \"http://127.0.0.1:7860/sdapi/v1/interrogate\"\n",
    "    headers = {'Content-Type': 'application/json'}\n",
    "\n",
    "    payload = {\n",
    "        \"image\": input_image,\n",
    "        \"model\": \"clip\"\n",
    "    }\n",
    "    response = requests.post(url, headers=headers, data=json.dumps(payload))\n",
    "    if response.status_code == 200:\n",
    "        caption = response.json()['caption']\n",
    "    else:\n",
    "        caption = \"NA\"\n",
    "    # ----------------------------------------------------------- after this, caption is the caption.\n",
    "    \n",
    "    # add info to caption dataframe.\n",
    "    row = {\n",
    "        'Deviation ID': dId,\n",
    "        'Caption': caption\n",
    "    }\n",
    "    row_df = pd.DataFrame(row, index=[0])\n",
    "    caption_df = pd.concat([caption_df, row_df], ignore_index=True)\n",
    "    \n",
    "    i+=1\n",
    "    if (i > n):\n",
    "        # write it out in case of crash, since it'll take a long time.\n",
    "        caption_df.to_csv('caption_info.csv', index=False)\n",
    "        i=0\n",
    "    j+=1\n",
    "    print(f\"Progress report: {j}\", end='\\r')\n",
    "\n",
    "# then save at the end regardless.\n",
    "caption_df = caption_df.drop_duplicates(subset='Deviation ID')\n",
    "caption_df.to_csv('caption_info.csv', index=False)\n",
    "print(\"\\nDone\")"
   ]
  },
  {
   "cell_type": "raw",
   "metadata": {},
   "source": [
    "caption_df = pd.read_csv('caption_info.csv')"
   ]
  },
  {
   "cell_type": "markdown",
   "metadata": {},
   "source": [
    "# Data Cleaning"
   ]
  },
  {
   "cell_type": "markdown",
   "metadata": {},
   "source": [
    "First, we'll do some basic cleaning where we drop N/A values and duplicates."
   ]
  },
  {
   "cell_type": "raw",
   "metadata": {},
   "source": [
    "# read in the .csv files which should have been created from the data gathering.\n",
    "deviation_df = pd.read_csv('deviation_info.csv')\n",
    "caption_df = pd.read_csv('caption_info.csv')\n",
    "\n",
    "# drop NA values if they exist in our deviation_df. Fortunately, all of our images have good values.\n",
    "print(deviation_df.shape)\n",
    "deviation_df = deviation_df.dropna()\n",
    "print(deviation_df.shape)\n",
    "\n",
    "# when a caption is failed to be read, it is given \"NA\" for a caption. Remove these from the list.\n",
    "# also if there is an NA then we drop it.\n",
    "print(caption_df.shape)\n",
    "caption_df = caption_df[caption_df['Caption'] != \"NA\"]\n",
    "caption_df = caption_df.dropna()\n",
    "print(caption_df.shape)\n",
    "\n",
    "# drop duplicates of both, just in case, although in our setup we already do this.\n",
    "deviation_df = deviation_df.drop_duplicates(subset='Deviation ID')\n",
    "caption_df = caption_df.drop_duplicates(subset='Deviation ID')"
   ]
  },
  {
   "cell_type": "code",
   "execution_count": 4,
   "metadata": {},
   "outputs": [],
   "source": [
    "# if new session, retrieve our deviation info\n",
    "csv_file = 'deviation_info.csv'\n",
    "try:\n",
    "    deviation_df = pd.read_csv(csv_file)\n",
    "except:\n",
    "    FileNotFoundError\n",
    "    \n",
    "# if new session, retrieve our CLIP caption info\n",
    "csv_file = 'caption_info.csv'\n",
    "try:\n",
    "    caption_df = pd.read_csv(csv_file)\n",
    "except FileNotFoundError:\n",
    "    caption_df = pd.DataFrame()"
   ]
  },
  {
   "cell_type": "markdown",
   "metadata": {},
   "source": [
    "Let's join our dataframes together based on their common ID for easier usage later:"
   ]
  },
  {
   "cell_type": "code",
   "execution_count": 5,
   "metadata": {},
   "outputs": [
    {
     "data": {
      "text/html": [
       "<div>\n",
       "<style scoped>\n",
       "    .dataframe tbody tr th:only-of-type {\n",
       "        vertical-align: middle;\n",
       "    }\n",
       "\n",
       "    .dataframe tbody tr th {\n",
       "        vertical-align: top;\n",
       "    }\n",
       "\n",
       "    .dataframe thead th {\n",
       "        text-align: right;\n",
       "    }\n",
       "</style>\n",
       "<table border=\"1\" class=\"dataframe\">\n",
       "  <thead>\n",
       "    <tr style=\"text-align: right;\">\n",
       "      <th></th>\n",
       "      <th>Deviation ID</th>\n",
       "      <th>Title</th>\n",
       "      <th>Author</th>\n",
       "      <th>Views</th>\n",
       "      <th>Favorites</th>\n",
       "      <th>Comments</th>\n",
       "      <th>URL Link</th>\n",
       "      <th>Date Posted</th>\n",
       "      <th>Height</th>\n",
       "      <th>Width</th>\n",
       "      <th>File Size</th>\n",
       "      <th>Author Watchers</th>\n",
       "      <th>Author Page Views</th>\n",
       "      <th>Author Deviations</th>\n",
       "      <th>Caption</th>\n",
       "    </tr>\n",
       "  </thead>\n",
       "  <tbody>\n",
       "    <tr>\n",
       "      <th>0</th>\n",
       "      <td>6797CD44-47EA-B405-9377-5D41D83F33FE</td>\n",
       "      <td>A l'aise...</td>\n",
       "      <td>thrumyeye</td>\n",
       "      <td>2022815</td>\n",
       "      <td>31101</td>\n",
       "      <td>2385</td>\n",
       "      <td>https://www.deviantart.com/thrumyeye/art/A-l-a...</td>\n",
       "      <td>2011-02-17 23:43:04</td>\n",
       "      <td>599</td>\n",
       "      <td>900</td>\n",
       "      <td>408379</td>\n",
       "      <td>36527</td>\n",
       "      <td>1354598</td>\n",
       "      <td>2179</td>\n",
       "      <td>a red fox is sitting in the grass and looking ...</td>\n",
       "    </tr>\n",
       "    <tr>\n",
       "      <th>1</th>\n",
       "      <td>83750DFB-D23E-00A3-DF4F-D164A07DF605</td>\n",
       "      <td>Tiger cub</td>\n",
       "      <td>Kamirah</td>\n",
       "      <td>1271452</td>\n",
       "      <td>20720</td>\n",
       "      <td>2097</td>\n",
       "      <td>https://www.deviantart.com/kamirah/art/Tiger-c...</td>\n",
       "      <td>2008-07-11 06:10:53</td>\n",
       "      <td>800</td>\n",
       "      <td>800</td>\n",
       "      <td>523370</td>\n",
       "      <td>45123</td>\n",
       "      <td>7500677</td>\n",
       "      <td>358</td>\n",
       "      <td>a tiger sitting on top of a rock in a forest w...</td>\n",
       "    </tr>\n",
       "    <tr>\n",
       "      <th>2</th>\n",
       "      <td>8F1ED8A1-88A5-861A-F83B-77916A1481A0</td>\n",
       "      <td>Baby Steps 0268P</td>\n",
       "      <td>Sooper-Deviant</td>\n",
       "      <td>1097719</td>\n",
       "      <td>24050</td>\n",
       "      <td>937</td>\n",
       "      <td>https://www.deviantart.com/sooper-deviant/art/...</td>\n",
       "      <td>2009-10-05 06:55:37</td>\n",
       "      <td>400</td>\n",
       "      <td>400</td>\n",
       "      <td>4493241</td>\n",
       "      <td>35586</td>\n",
       "      <td>1438276</td>\n",
       "      <td>345</td>\n",
       "      <td>a red panda cub walking on a tree branch in th...</td>\n",
       "    </tr>\n",
       "    <tr>\n",
       "      <th>3</th>\n",
       "      <td>66D5BA39-C0D4-7A95-52FF-C0694149142E</td>\n",
       "      <td>Sky Turtle</td>\n",
       "      <td>yuumei</td>\n",
       "      <td>1056323</td>\n",
       "      <td>23103</td>\n",
       "      <td>918</td>\n",
       "      <td>https://www.deviantart.com/yuumei/art/Sky-Turt...</td>\n",
       "      <td>2014-01-23 10:46:57</td>\n",
       "      <td>532</td>\n",
       "      <td>1000</td>\n",
       "      <td>390864</td>\n",
       "      <td>397714</td>\n",
       "      <td>22504533</td>\n",
       "      <td>842</td>\n",
       "      <td>a bird flying through the air with its wings s...</td>\n",
       "    </tr>\n",
       "    <tr>\n",
       "      <th>4</th>\n",
       "      <td>1C127EBF-EFF7-7BC4-004D-0355A2856C05</td>\n",
       "      <td>Riders</td>\n",
       "      <td>sandara</td>\n",
       "      <td>1240225</td>\n",
       "      <td>15643</td>\n",
       "      <td>512</td>\n",
       "      <td>https://www.deviantart.com/sandara/art/Riders-...</td>\n",
       "      <td>2013-09-30 23:37:02</td>\n",
       "      <td>770</td>\n",
       "      <td>1200</td>\n",
       "      <td>832434</td>\n",
       "      <td>212588</td>\n",
       "      <td>7566524</td>\n",
       "      <td>796</td>\n",
       "      <td>a man riding on the back of a horse next to a ...</td>\n",
       "    </tr>\n",
       "  </tbody>\n",
       "</table>\n",
       "</div>"
      ],
      "text/plain": [
       "                           Deviation ID             Title          Author  \\\n",
       "0  6797CD44-47EA-B405-9377-5D41D83F33FE       A l'aise...       thrumyeye   \n",
       "1  83750DFB-D23E-00A3-DF4F-D164A07DF605         Tiger cub         Kamirah   \n",
       "2  8F1ED8A1-88A5-861A-F83B-77916A1481A0  Baby Steps 0268P  Sooper-Deviant   \n",
       "3  66D5BA39-C0D4-7A95-52FF-C0694149142E        Sky Turtle          yuumei   \n",
       "4  1C127EBF-EFF7-7BC4-004D-0355A2856C05            Riders         sandara   \n",
       "\n",
       "     Views  Favorites  Comments  \\\n",
       "0  2022815      31101      2385   \n",
       "1  1271452      20720      2097   \n",
       "2  1097719      24050       937   \n",
       "3  1056323      23103       918   \n",
       "4  1240225      15643       512   \n",
       "\n",
       "                                            URL Link          Date Posted  \\\n",
       "0  https://www.deviantart.com/thrumyeye/art/A-l-a...  2011-02-17 23:43:04   \n",
       "1  https://www.deviantart.com/kamirah/art/Tiger-c...  2008-07-11 06:10:53   \n",
       "2  https://www.deviantart.com/sooper-deviant/art/...  2009-10-05 06:55:37   \n",
       "3  https://www.deviantart.com/yuumei/art/Sky-Turt...  2014-01-23 10:46:57   \n",
       "4  https://www.deviantart.com/sandara/art/Riders-...  2013-09-30 23:37:02   \n",
       "\n",
       "   Height  Width  File Size  Author Watchers  Author Page Views  \\\n",
       "0     599    900     408379            36527            1354598   \n",
       "1     800    800     523370            45123            7500677   \n",
       "2     400    400    4493241            35586            1438276   \n",
       "3     532   1000     390864           397714           22504533   \n",
       "4     770   1200     832434           212588            7566524   \n",
       "\n",
       "   Author Deviations                                            Caption  \n",
       "0               2179  a red fox is sitting in the grass and looking ...  \n",
       "1                358  a tiger sitting on top of a rock in a forest w...  \n",
       "2                345  a red panda cub walking on a tree branch in th...  \n",
       "3                842  a bird flying through the air with its wings s...  \n",
       "4                796  a man riding on the back of a horse next to a ...  "
      ]
     },
     "execution_count": 5,
     "metadata": {},
     "output_type": "execute_result"
    }
   ],
   "source": [
    "# joining the two dataframes for good measure.\n",
    "df = pd.merge(deviation_df, caption_df, on='Deviation ID', how='inner')\n",
    "df.head()"
   ]
  },
  {
   "cell_type": "markdown",
   "metadata": {},
   "source": [
    "We want to anonymize the data to maintain ethical integrity as discussed in our project proposal. Let's remove the Author field, as it doesn't contribute anything otherwise. We don't need the URL anymore and it also reveals the author on top of that, so we remove it too. We are essentially using the caption in place of the title, so we will disregard it. We also acknowledge that webpage \"views\" can be manipulated by bots. The views on the deviation (read: artwork) are still relevant despite knowing that, but the views on the Author's page matter less so. Let's remove that also:"
   ]
  },
  {
   "cell_type": "code",
   "execution_count": 6,
   "metadata": {},
   "outputs": [],
   "source": [
    "df = df.drop('URL Link', axis=1)\n",
    "df = df.drop('Author', axis=1)\n",
    "df = df.drop('Author Page Views', axis=1)\n",
    "df = df.drop('Title', axis=1)"
   ]
  },
  {
   "cell_type": "code",
   "execution_count": 7,
   "metadata": {},
   "outputs": [
    {
     "data": {
      "text/html": [
       "<div>\n",
       "<style scoped>\n",
       "    .dataframe tbody tr th:only-of-type {\n",
       "        vertical-align: middle;\n",
       "    }\n",
       "\n",
       "    .dataframe tbody tr th {\n",
       "        vertical-align: top;\n",
       "    }\n",
       "\n",
       "    .dataframe thead th {\n",
       "        text-align: right;\n",
       "    }\n",
       "</style>\n",
       "<table border=\"1\" class=\"dataframe\">\n",
       "  <thead>\n",
       "    <tr style=\"text-align: right;\">\n",
       "      <th></th>\n",
       "      <th>Deviation ID</th>\n",
       "      <th>Views</th>\n",
       "      <th>Favorites</th>\n",
       "      <th>Comments</th>\n",
       "      <th>Date Posted</th>\n",
       "      <th>Height</th>\n",
       "      <th>Width</th>\n",
       "      <th>File Size</th>\n",
       "      <th>Author Watchers</th>\n",
       "      <th>Author Deviations</th>\n",
       "      <th>Caption</th>\n",
       "    </tr>\n",
       "  </thead>\n",
       "  <tbody>\n",
       "    <tr>\n",
       "      <th>0</th>\n",
       "      <td>6797CD44-47EA-B405-9377-5D41D83F33FE</td>\n",
       "      <td>2022815</td>\n",
       "      <td>31101</td>\n",
       "      <td>2385</td>\n",
       "      <td>2011-02-17 23:43:04</td>\n",
       "      <td>599</td>\n",
       "      <td>900</td>\n",
       "      <td>408379</td>\n",
       "      <td>36527</td>\n",
       "      <td>2179</td>\n",
       "      <td>a red fox is sitting in the grass and looking ...</td>\n",
       "    </tr>\n",
       "    <tr>\n",
       "      <th>1</th>\n",
       "      <td>83750DFB-D23E-00A3-DF4F-D164A07DF605</td>\n",
       "      <td>1271452</td>\n",
       "      <td>20720</td>\n",
       "      <td>2097</td>\n",
       "      <td>2008-07-11 06:10:53</td>\n",
       "      <td>800</td>\n",
       "      <td>800</td>\n",
       "      <td>523370</td>\n",
       "      <td>45123</td>\n",
       "      <td>358</td>\n",
       "      <td>a tiger sitting on top of a rock in a forest w...</td>\n",
       "    </tr>\n",
       "    <tr>\n",
       "      <th>2</th>\n",
       "      <td>8F1ED8A1-88A5-861A-F83B-77916A1481A0</td>\n",
       "      <td>1097719</td>\n",
       "      <td>24050</td>\n",
       "      <td>937</td>\n",
       "      <td>2009-10-05 06:55:37</td>\n",
       "      <td>400</td>\n",
       "      <td>400</td>\n",
       "      <td>4493241</td>\n",
       "      <td>35586</td>\n",
       "      <td>345</td>\n",
       "      <td>a red panda cub walking on a tree branch in th...</td>\n",
       "    </tr>\n",
       "    <tr>\n",
       "      <th>3</th>\n",
       "      <td>66D5BA39-C0D4-7A95-52FF-C0694149142E</td>\n",
       "      <td>1056323</td>\n",
       "      <td>23103</td>\n",
       "      <td>918</td>\n",
       "      <td>2014-01-23 10:46:57</td>\n",
       "      <td>532</td>\n",
       "      <td>1000</td>\n",
       "      <td>390864</td>\n",
       "      <td>397714</td>\n",
       "      <td>842</td>\n",
       "      <td>a bird flying through the air with its wings s...</td>\n",
       "    </tr>\n",
       "    <tr>\n",
       "      <th>4</th>\n",
       "      <td>1C127EBF-EFF7-7BC4-004D-0355A2856C05</td>\n",
       "      <td>1240225</td>\n",
       "      <td>15643</td>\n",
       "      <td>512</td>\n",
       "      <td>2013-09-30 23:37:02</td>\n",
       "      <td>770</td>\n",
       "      <td>1200</td>\n",
       "      <td>832434</td>\n",
       "      <td>212588</td>\n",
       "      <td>796</td>\n",
       "      <td>a man riding on the back of a horse next to a ...</td>\n",
       "    </tr>\n",
       "  </tbody>\n",
       "</table>\n",
       "</div>"
      ],
      "text/plain": [
       "                           Deviation ID    Views  Favorites  Comments  \\\n",
       "0  6797CD44-47EA-B405-9377-5D41D83F33FE  2022815      31101      2385   \n",
       "1  83750DFB-D23E-00A3-DF4F-D164A07DF605  1271452      20720      2097   \n",
       "2  8F1ED8A1-88A5-861A-F83B-77916A1481A0  1097719      24050       937   \n",
       "3  66D5BA39-C0D4-7A95-52FF-C0694149142E  1056323      23103       918   \n",
       "4  1C127EBF-EFF7-7BC4-004D-0355A2856C05  1240225      15643       512   \n",
       "\n",
       "           Date Posted  Height  Width  File Size  Author Watchers  \\\n",
       "0  2011-02-17 23:43:04     599    900     408379            36527   \n",
       "1  2008-07-11 06:10:53     800    800     523370            45123   \n",
       "2  2009-10-05 06:55:37     400    400    4493241            35586   \n",
       "3  2014-01-23 10:46:57     532   1000     390864           397714   \n",
       "4  2013-09-30 23:37:02     770   1200     832434           212588   \n",
       "\n",
       "   Author Deviations                                            Caption  \n",
       "0               2179  a red fox is sitting in the grass and looking ...  \n",
       "1                358  a tiger sitting on top of a rock in a forest w...  \n",
       "2                345  a red panda cub walking on a tree branch in th...  \n",
       "3                842  a bird flying through the air with its wings s...  \n",
       "4                796  a man riding on the back of a horse next to a ...  "
      ]
     },
     "execution_count": 7,
     "metadata": {},
     "output_type": "execute_result"
    }
   ],
   "source": [
    "df.head()"
   ]
  },
  {
   "cell_type": "markdown",
   "metadata": {},
   "source": [
    "We can justify the rest of the columns. We need the ID for identification purposes. The title may relate to the CLIP caption. The views, favorites, and comments are how we are gauging the popularity of the post. The date posted is relevant for trend analysis. The file size, height, and width implies the rendering definition (e.g. 1080px) of the work. Author watchers and deviations may imply how much experience or traction this author has had on DeviantArt. Finally, the CLIP caption is integral to our hypothesis."
   ]
  },
  {
   "cell_type": "markdown",
   "metadata": {},
   "source": [
    "Now we consider adjusting the string-based content of our data. Below we notice that the AI caption is longer than we need it to be:"
   ]
  },
  {
   "cell_type": "code",
   "execution_count": 8,
   "metadata": {},
   "outputs": [
    {
     "name": "stdout",
     "output_type": "stream",
     "text": [
      "a red fox is sitting in the grass and looking at the camera with a sad look on its face, Arie Smit, animal photography, a stock photo, furry art\n",
      "\n",
      "a drawing of a bunch of arrows with different designs on them and numbers on them, all of which are different, Évariste Vital Luminais, tarot card, concept art, symbolism\n",
      "\n",
      "a painting of a winged creature standing in a forest next to a lake with a waterfall in the background, Bastien Lecouffe-Deharme, magic the gathering artwork, concept art, fantasy art\n",
      "\n",
      "a drawing of a umbrella and a clock on a book page with a pen and ink drawing of a woman holding an umbrella, Farel Dalrymple, illustrated, a storybook illustration, pop surrealism\n",
      "\n",
      "a drawing of a woman with blue hair and a blue eyeliner on a notebook with a pen and a pen, Android Jones, trending on art station, a watercolor painting, process art\n",
      "\n"
     ]
    }
   ],
   "source": [
    "for n in range(0, 1000, 200):\n",
    "    print(df['Caption'][n])\n",
    "    print()"
   ]
  },
  {
   "cell_type": "markdown",
   "metadata": {},
   "source": [
    "Notice that mainly what is before the first comma is the only relevant part of the caption. Furthermore, the AI makes a guess at who made the picture after the first comma. Let's remove everything after the first comma:"
   ]
  },
  {
   "cell_type": "code",
   "execution_count": 9,
   "metadata": {},
   "outputs": [],
   "source": [
    "for n in range(df['Caption'].size):\n",
    "    before_comma = df['Caption'][n].split(\",\")[0]\n",
    "    df.loc[n, 'Caption'] = before_comma"
   ]
  },
  {
   "cell_type": "code",
   "execution_count": 10,
   "metadata": {},
   "outputs": [
    {
     "data": {
      "text/plain": [
       "'a forest with a lot of trees and snow on the ground and sun shining through the trees and the ground'"
      ]
     },
     "execution_count": 10,
     "metadata": {},
     "output_type": "execute_result"
    }
   ],
   "source": [
    "df['Caption'][30]"
   ]
  },
  {
   "cell_type": "markdown",
   "metadata": {},
   "source": [
    "Now the caption is much more precise. However, we do not want the stopwords such as \"a\", \"is\", \"the\", etc. within our analysis, as they are irrelevant. Let's remove them:"
   ]
  },
  {
   "cell_type": "code",
   "execution_count": 11,
   "metadata": {},
   "outputs": [],
   "source": [
    "stopwords = set(stopwords.words('english'))"
   ]
  },
  {
   "cell_type": "code",
   "execution_count": 12,
   "metadata": {},
   "outputs": [],
   "source": [
    "for n in range(df['Caption'].size):\n",
    "    tokens = word_tokenize(df['Caption'][n])\n",
    "    filtered_text = [word for word in tokens if word not in stopwords]\n",
    "    if \"'s\" in filtered_text:\n",
    "        filtered_text.remove(\"'s\")\n",
    "    filtered_text = list(set(filtered_text))\n",
    "    filtered_caption = ' '.join(filtered_text)\n",
    "    df.loc[n, 'Caption'] = filtered_caption"
   ]
  },
  {
   "cell_type": "code",
   "execution_count": 13,
   "metadata": {},
   "outputs": [
    {
     "data": {
      "text/plain": [
       "'snow forest sun trees shining lot ground'"
      ]
     },
     "execution_count": 13,
     "metadata": {},
     "output_type": "execute_result"
    }
   ],
   "source": [
    "df['Caption'][30]"
   ]
  },
  {
   "cell_type": "markdown",
   "metadata": {},
   "source": [
    "This will do."
   ]
  },
  {
   "cell_type": "markdown",
   "metadata": {},
   "source": [
    "# Data Analysis & Results"
   ]
  },
  {
   "cell_type": "markdown",
   "metadata": {},
   "source": [
    "The first step of our Data Analysis would be to determine the popularity metric by using views, favorites, and comments fields. This way, we can dive deeper into our analysis and explore 3 main popularity trends: fileSizeAndQuality, authorExperience, and the AICaption.\n",
    "\n",
    "Next, we will run a statistical test to see whether popularity IS NOT related to fileSizeAndQuality or authorExperience, and if popularity IS related to the AICaption. It's not critical that these statistical tests pass, rather we just need the results to evaluate whether our hypothesis is true or false;\n",
    "\n",
    "We predict that digital artwork that contains certain keywords as predicted by CLIP (painting vs. watercolor vs. digital) will indeed have a positive correlation to popularity on social media. As humans observing what is popular, we notice that certain features tend to repeat themselves across posts, which leads us to believe a correlation will be found."
   ]
  },
  {
   "cell_type": "markdown",
   "metadata": {},
   "source": [
    "We first need to define a popularity metric in order to do meaningful analysis. We explore the views, favorites, comments, and author watcher fields to get an idea of what a reasonable metric to measure popularity would look like."
   ]
  },
  {
   "cell_type": "code",
   "execution_count": 14,
   "metadata": {},
   "outputs": [
    {
     "data": {
      "image/png": "[encoded data removed]",
      "text/plain": [
       "<Figure size 640x480 with 1 Axes>"
      ]
     },
     "metadata": {},
     "output_type": "display_data"
    }
   ],
   "source": [
    "sns.histplot(df['Views']/100)\n",
    "plt.xlim(0, 40000)\n",
    "plt.show()"
   ]
  },
  {
   "cell_type": "markdown",
   "metadata": {},
   "source": [
    "The plot shown above is a histogram of the artwork views divided by 100. The x-axis represents the range of views, while the y-axis represents the frequency or count of artworks falling within each range. The majority of artworks fall between 0 and 5000 views.\n",
    "\n",
    "In terms of the research question and hypothesis, the histogram provides an overview of the distribution of artwork views on social media. By examining the histogram, we can analyze the relationship between the popularity of artwork (measured by views) and the keywords present in the artwork captions."
   ]
  },
  {
   "cell_type": "code",
   "execution_count": 15,
   "metadata": {},
   "outputs": [
    {
     "data": {
      "image/png": "[encoded data removed]",
      "text/plain": [
       "<Figure size 640x480 with 1 Axes>"
      ]
     },
     "metadata": {},
     "output_type": "display_data"
    }
   ],
   "source": [
    "sns.histplot(df['Favorites'])\n",
    "plt.show()"
   ]
  },
  {
   "cell_type": "markdown",
   "metadata": {},
   "source": [
    "The plot shown is a histogram of the number of favorites (equivalent to \"likes\") received by the artworks. The histogram allows us to examine the relationship between the popularity of the artworks (measured by the number of favorites) and the keywords present in their captions. The x-axis represents the range of favorites, while the y-axis represents the frequency or count of artworks falling within each range. As one can see, majority of art received favorites between 5000 to 15000.\n",
    "\n",
    "By looking at the histogram, we can gain insights into how artworks are being received by the audience in terms of favorites. The distribution of favorites can indicate whether certain artworks are more popular or resonate better with the viewers."
   ]
  },
  {
   "cell_type": "code",
   "execution_count": 16,
   "metadata": {},
   "outputs": [
    {
     "data": {
      "image/png": "[encoded data removed]",
      "text/plain": [
       "<Figure size 640x480 with 1 Axes>"
      ]
     },
     "metadata": {},
     "output_type": "display_data"
    }
   ],
   "source": [
    "sns.histplot(df['Comments'])\n",
    "plt.xlim(0, 10000)\n",
    "plt.show()"
   ]
  },
  {
   "cell_type": "markdown",
   "metadata": {},
   "source": [
    "The plot shown is a histogram of the number of comments received by the artworks. Similar to the previous plot, the x-axis represents the range of comments, while the y-axis represents the frequency or count of artworks falling within each range, with the majority falling between 0 and 1000 comments.\n",
    "\n",
    "Analyzing this plot in relation to the research question and hypothesis, it provides an overview of the distribution of comments received by the artworks on social media. The histogram allows us to examine the relationship between the engagement level of the artworks (measured by the number of comments) and the keywords present in their captions."
   ]
  },
  {
   "cell_type": "markdown",
   "metadata": {},
   "source": [
    "We notice that the distribution for views, favorites, and comments are all similar but differ obviously on the scale. There are a handful of outliers here and there (two points at around 10 million and 6 million are excluded in the views plot and around 5 points above 10 thousand were excluded in the comments plot), but for the most part most people do not get a lot of interaction on their posts (which is how popularity intuitively works)."
   ]
  },
  {
   "cell_type": "code",
   "execution_count": 17,
   "metadata": {},
   "outputs": [
    {
     "data": {
      "image/png": "[encoded data removed]",
      "text/plain": [
       "<Figure size 640x480 with 1 Axes>"
      ]
     },
     "metadata": {},
     "output_type": "display_data"
    }
   ],
   "source": [
    "sns.histplot(df['Author Watchers'])\n",
    "plt.show()"
   ]
  },
  {
   "cell_type": "markdown",
   "metadata": {},
   "source": [
    "Author distribution is certainly not normal but not necessarily as clearly right-skewed as the popularity metrics."
   ]
  },
  {
   "cell_type": "markdown",
   "metadata": {},
   "source": [
    "We note that to put the popularity distributions on a similar scale, we can use the scale factors below:"
   ]
  },
  {
   "cell_type": "code",
   "execution_count": 18,
   "metadata": {},
   "outputs": [],
   "source": [
    "view_scale_factor = 0.01\n",
    "favorite_scale_factor = 1.0\n",
    "comment_scale_factor = 10.0"
   ]
  },
  {
   "cell_type": "markdown",
   "metadata": {},
   "source": [
    "Finally we can divide by Author Watcher count to normalize popularity based on how large a following an author already has (and thus has contributed to the popularity of the artwork):"
   ]
  },
  {
   "cell_type": "code",
   "execution_count": 19,
   "metadata": {},
   "outputs": [],
   "source": [
    "popularity_metrics = []\n",
    "for n in range(df.shape[0]):\n",
    "    view_count = df['Views'][n]\n",
    "    favorite_count = df['Favorites'][n]\n",
    "    comment_count = df['Comments'][n]\n",
    "    watcher_count = df['Author Watchers'][n]\n",
    "    popularity_metric = (view_count*view_scale_factor + favorite_count*favorite_scale_factor + comment_count*comment_scale_factor) / watcher_count\n",
    "    popularity_metrics.append(popularity_metric * 10)"
   ]
  },
  {
   "cell_type": "code",
   "execution_count": 20,
   "metadata": {},
   "outputs": [
    {
     "data": {
      "text/html": [
       "<div>\n",
       "<style scoped>\n",
       "    .dataframe tbody tr th:only-of-type {\n",
       "        vertical-align: middle;\n",
       "    }\n",
       "\n",
       "    .dataframe tbody tr th {\n",
       "        vertical-align: top;\n",
       "    }\n",
       "\n",
       "    .dataframe thead th {\n",
       "        text-align: right;\n",
       "    }\n",
       "</style>\n",
       "<table border=\"1\" class=\"dataframe\">\n",
       "  <thead>\n",
       "    <tr style=\"text-align: right;\">\n",
       "      <th></th>\n",
       "      <th>Popularity Metric</th>\n",
       "    </tr>\n",
       "  </thead>\n",
       "  <tbody>\n",
       "    <tr>\n",
       "      <th>count</th>\n",
       "      <td>1188.000000</td>\n",
       "    </tr>\n",
       "    <tr>\n",
       "      <th>mean</th>\n",
       "      <td>46.593045</td>\n",
       "    </tr>\n",
       "    <tr>\n",
       "      <th>std</th>\n",
       "      <td>340.959089</td>\n",
       "    </tr>\n",
       "    <tr>\n",
       "      <th>min</th>\n",
       "      <td>0.134138</td>\n",
       "    </tr>\n",
       "    <tr>\n",
       "      <th>25%</th>\n",
       "      <td>0.723449</td>\n",
       "    </tr>\n",
       "    <tr>\n",
       "      <th>50%</th>\n",
       "      <td>1.690288</td>\n",
       "    </tr>\n",
       "    <tr>\n",
       "      <th>75%</th>\n",
       "      <td>7.912631</td>\n",
       "    </tr>\n",
       "    <tr>\n",
       "      <th>max</th>\n",
       "      <td>6759.395455</td>\n",
       "    </tr>\n",
       "  </tbody>\n",
       "</table>\n",
       "</div>"
      ],
      "text/plain": [
       "       Popularity Metric\n",
       "count        1188.000000\n",
       "mean           46.593045\n",
       "std           340.959089\n",
       "min             0.134138\n",
       "25%             0.723449\n",
       "50%             1.690288\n",
       "75%             7.912631\n",
       "max          6759.395455"
      ]
     },
     "execution_count": 20,
     "metadata": {},
     "output_type": "execute_result"
    }
   ],
   "source": [
    "popularity_metric_df = pd.DataFrame(popularity_metrics).rename(columns={0: 'Popularity Metric'})\n",
    "popularity_metric_df.describe()"
   ]
  },
  {
   "cell_type": "code",
   "execution_count": 21,
   "metadata": {},
   "outputs": [],
   "source": [
    "df = pd.concat([df, popularity_metric_df], axis=1)"
   ]
  },
  {
   "cell_type": "code",
   "execution_count": 22,
   "metadata": {},
   "outputs": [
    {
     "data": {
      "image/png": "[encoded data removed]",
      "text/plain": [
       "<Figure size 640x480 with 1 Axes>"
      ]
     },
     "metadata": {},
     "output_type": "display_data"
    }
   ],
   "source": [
    "sns.histplot(popularity_metrics)\n",
    "plt.xlim(0, 200)\n",
    "plt.show()"
   ]
  },
  {
   "cell_type": "markdown",
   "metadata": {},
   "source": [
    "Now that we've made a best attempt at normalizing our popularity data, we want to convert it into rank statistics, as popularity data is inherently ordinal in nature if we're sampling starting from the most popular (not to mention we have some pretty wild outliers). We'll use scipy's rankdata and append that to our dataframe:"
   ]
  },
  {
   "cell_type": "code",
   "execution_count": 23,
   "metadata": {},
   "outputs": [],
   "source": [
    "# flip ranks so we get the highest metric = rank 1\n",
    "ranks = len(df) + 1 - rankdata(df['Popularity Metric'])\n",
    "df['Rank'] = ranks"
   ]
  },
  {
   "cell_type": "code",
   "execution_count": 24,
   "metadata": {},
   "outputs": [
    {
     "data": {
      "text/html": [
       "<div>\n",
       "<style scoped>\n",
       "    .dataframe tbody tr th:only-of-type {\n",
       "        vertical-align: middle;\n",
       "    }\n",
       "\n",
       "    .dataframe tbody tr th {\n",
       "        vertical-align: top;\n",
       "    }\n",
       "\n",
       "    .dataframe thead th {\n",
       "        text-align: right;\n",
       "    }\n",
       "</style>\n",
       "<table border=\"1\" class=\"dataframe\">\n",
       "  <thead>\n",
       "    <tr style=\"text-align: right;\">\n",
       "      <th></th>\n",
       "      <th>Deviation ID</th>\n",
       "      <th>Views</th>\n",
       "      <th>Favorites</th>\n",
       "      <th>Comments</th>\n",
       "      <th>Date Posted</th>\n",
       "      <th>Height</th>\n",
       "      <th>Width</th>\n",
       "      <th>File Size</th>\n",
       "      <th>Author Watchers</th>\n",
       "      <th>Author Deviations</th>\n",
       "      <th>Caption</th>\n",
       "      <th>Popularity Metric</th>\n",
       "      <th>Rank</th>\n",
       "    </tr>\n",
       "  </thead>\n",
       "  <tbody>\n",
       "    <tr>\n",
       "      <th>0</th>\n",
       "      <td>6797CD44-47EA-B405-9377-5D41D83F33FE</td>\n",
       "      <td>2022815</td>\n",
       "      <td>31101</td>\n",
       "      <td>2385</td>\n",
       "      <td>2011-02-17 23:43:04</td>\n",
       "      <td>599</td>\n",
       "      <td>900</td>\n",
       "      <td>408379</td>\n",
       "      <td>36527</td>\n",
       "      <td>2179</td>\n",
       "      <td>fox red grass look sad camera looking sitting ...</td>\n",
       "      <td>20.581803</td>\n",
       "      <td>166.0</td>\n",
       "    </tr>\n",
       "    <tr>\n",
       "      <th>1</th>\n",
       "      <td>83750DFB-D23E-00A3-DF4F-D164A07DF605</td>\n",
       "      <td>1271452</td>\n",
       "      <td>20720</td>\n",
       "      <td>2097</td>\n",
       "      <td>2008-07-11 06:10:53</td>\n",
       "      <td>800</td>\n",
       "      <td>800</td>\n",
       "      <td>523370</td>\n",
       "      <td>45123</td>\n",
       "      <td>358</td>\n",
       "      <td>top leaves neck forest flowers around tiger si...</td>\n",
       "      <td>12.056938</td>\n",
       "      <td>236.0</td>\n",
       "    </tr>\n",
       "    <tr>\n",
       "      <th>2</th>\n",
       "      <td>8F1ED8A1-88A5-861A-F83B-77916A1481A0</td>\n",
       "      <td>1097719</td>\n",
       "      <td>24050</td>\n",
       "      <td>937</td>\n",
       "      <td>2009-10-05 06:55:37</td>\n",
       "      <td>400</td>\n",
       "      <td>400</td>\n",
       "      <td>4493241</td>\n",
       "      <td>35586</td>\n",
       "      <td>345</td>\n",
       "      <td>panda walking red forest tree branch cub</td>\n",
       "      <td>12.476027</td>\n",
       "      <td>232.0</td>\n",
       "    </tr>\n",
       "  </tbody>\n",
       "</table>\n",
       "</div>"
      ],
      "text/plain": [
       "                           Deviation ID    Views  Favorites  Comments  \\\n",
       "0  6797CD44-47EA-B405-9377-5D41D83F33FE  2022815      31101      2385   \n",
       "1  83750DFB-D23E-00A3-DF4F-D164A07DF605  1271452      20720      2097   \n",
       "2  8F1ED8A1-88A5-861A-F83B-77916A1481A0  1097719      24050       937   \n",
       "\n",
       "           Date Posted  Height  Width  File Size  Author Watchers  \\\n",
       "0  2011-02-17 23:43:04     599    900     408379            36527   \n",
       "1  2008-07-11 06:10:53     800    800     523370            45123   \n",
       "2  2009-10-05 06:55:37     400    400    4493241            35586   \n",
       "\n",
       "   Author Deviations                                            Caption  \\\n",
       "0               2179  fox red grass look sad camera looking sitting ...   \n",
       "1                358  top leaves neck forest flowers around tiger si...   \n",
       "2                345           panda walking red forest tree branch cub   \n",
       "\n",
       "   Popularity Metric   Rank  \n",
       "0          20.581803  166.0  \n",
       "1          12.056938  236.0  \n",
       "2          12.476027  232.0  "
      ]
     },
     "execution_count": 24,
     "metadata": {},
     "output_type": "execute_result"
    }
   ],
   "source": [
    "df.head(3)"
   ]
  },
  {
   "cell_type": "markdown",
   "metadata": {},
   "source": [
    "Just as a curiosity, let's order by ranking and see some of the most popular (as defined by us, of course) works:"
   ]
  },
  {
   "cell_type": "code",
   "execution_count": 25,
   "metadata": {},
   "outputs": [
    {
     "data": {
      "text/html": [
       "<div>\n",
       "<style scoped>\n",
       "    .dataframe tbody tr th:only-of-type {\n",
       "        vertical-align: middle;\n",
       "    }\n",
       "\n",
       "    .dataframe tbody tr th {\n",
       "        vertical-align: top;\n",
       "    }\n",
       "\n",
       "    .dataframe thead th {\n",
       "        text-align: right;\n",
       "    }\n",
       "</style>\n",
       "<table border=\"1\" class=\"dataframe\">\n",
       "  <thead>\n",
       "    <tr style=\"text-align: right;\">\n",
       "      <th></th>\n",
       "      <th>Deviation ID</th>\n",
       "      <th>Views</th>\n",
       "      <th>Favorites</th>\n",
       "      <th>Comments</th>\n",
       "      <th>Date Posted</th>\n",
       "      <th>Height</th>\n",
       "      <th>Width</th>\n",
       "      <th>File Size</th>\n",
       "      <th>Author Watchers</th>\n",
       "      <th>Author Deviations</th>\n",
       "      <th>Caption</th>\n",
       "      <th>Popularity Metric</th>\n",
       "      <th>Rank</th>\n",
       "    </tr>\n",
       "  </thead>\n",
       "  <tbody>\n",
       "    <tr>\n",
       "      <th>0</th>\n",
       "      <td>AF3C97E9-AC22-5FC2-200A-9F7DD0DF4E32</td>\n",
       "      <td>165801</td>\n",
       "      <td>26104</td>\n",
       "      <td>1685</td>\n",
       "      <td>2006-11-03 22:12:37</td>\n",
       "      <td>56</td>\n",
       "      <td>99</td>\n",
       "      <td>16277</td>\n",
       "      <td>66</td>\n",
       "      <td>109</td>\n",
       "      <td>picture 's either caption planet pluto quote</td>\n",
       "      <td>6759.395455</td>\n",
       "      <td>1.0</td>\n",
       "    </tr>\n",
       "    <tr>\n",
       "      <th>1</th>\n",
       "      <td>60740003-A0C3-5C99-5B55-A7C90A33EB70</td>\n",
       "      <td>2985059</td>\n",
       "      <td>23246</td>\n",
       "      <td>6544</td>\n",
       "      <td>2007-10-14 19:57:15</td>\n",
       "      <td>56</td>\n",
       "      <td>99</td>\n",
       "      <td>4778</td>\n",
       "      <td>202</td>\n",
       "      <td>171</td>\n",
       "      <td>stamp picture different two characters</td>\n",
       "      <td>5868.148020</td>\n",
       "      <td>2.0</td>\n",
       "    </tr>\n",
       "    <tr>\n",
       "      <th>2</th>\n",
       "      <td>921BD7C7-0F3E-4102-993C-89EB397F409D</td>\n",
       "      <td>95259</td>\n",
       "      <td>11764</td>\n",
       "      <td>729</td>\n",
       "      <td>2009-01-13 12:31:37</td>\n",
       "      <td>55</td>\n",
       "      <td>99</td>\n",
       "      <td>6993</td>\n",
       "      <td>40</td>\n",
       "      <td>100</td>\n",
       "      <td>picture trouble music background smiley says r...</td>\n",
       "      <td>5001.647500</td>\n",
       "      <td>3.0</td>\n",
       "    </tr>\n",
       "    <tr>\n",
       "      <th>3</th>\n",
       "      <td>BB8400B2-75DA-4876-178E-91C0516EBEA0</td>\n",
       "      <td>263967</td>\n",
       "      <td>5051</td>\n",
       "      <td>593</td>\n",
       "      <td>2006-07-13 01:29:25</td>\n",
       "      <td>450</td>\n",
       "      <td>540</td>\n",
       "      <td>178631</td>\n",
       "      <td>46</td>\n",
       "      <td>2</td>\n",
       "      <td>fence background snow lit christmas trees tree...</td>\n",
       "      <td>2961.015217</td>\n",
       "      <td>4.0</td>\n",
       "    </tr>\n",
       "  </tbody>\n",
       "</table>\n",
       "</div>"
      ],
      "text/plain": [
       "                           Deviation ID    Views  Favorites  Comments  \\\n",
       "0  AF3C97E9-AC22-5FC2-200A-9F7DD0DF4E32   165801      26104      1685   \n",
       "1  60740003-A0C3-5C99-5B55-A7C90A33EB70  2985059      23246      6544   \n",
       "2  921BD7C7-0F3E-4102-993C-89EB397F409D    95259      11764       729   \n",
       "3  BB8400B2-75DA-4876-178E-91C0516EBEA0   263967       5051       593   \n",
       "\n",
       "           Date Posted  Height  Width  File Size  Author Watchers  \\\n",
       "0  2006-11-03 22:12:37      56     99      16277               66   \n",
       "1  2007-10-14 19:57:15      56     99       4778              202   \n",
       "2  2009-01-13 12:31:37      55     99       6993               40   \n",
       "3  2006-07-13 01:29:25     450    540     178631               46   \n",
       "\n",
       "   Author Deviations                                            Caption  \\\n",
       "0                109       picture 's either caption planet pluto quote   \n",
       "1                171             stamp picture different two characters   \n",
       "2                100  picture trouble music background smiley says r...   \n",
       "3                  2  fence background snow lit christmas trees tree...   \n",
       "\n",
       "   Popularity Metric  Rank  \n",
       "0        6759.395455   1.0  \n",
       "1        5868.148020   2.0  \n",
       "2        5001.647500   3.0  \n",
       "3        2961.015217   4.0  "
      ]
     },
     "execution_count": 25,
     "metadata": {},
     "output_type": "execute_result"
    }
   ],
   "source": [
    "sorted_df = df.sort_values('Rank').reset_index(drop=True)\n",
    "sorted_df.head(4)"
   ]
  },
  {
   "cell_type": "code",
   "execution_count": 26,
   "metadata": {},
   "outputs": [
    {
     "name": "stdout",
     "output_type": "stream",
     "text": [
      "picture 's either caption planet pluto quote\n"
     ]
    },
    {
     "data": {
      "image/png": "[encoded data removed]",
      "text/plain": [
       "<IPython.core.display.Image object>"
      ]
     },
     "metadata": {
      "image/png": {
       "width": 300
      }
     },
     "output_type": "display_data"
    }
   ],
   "source": [
    "# deviation with the highest popularity metric\n",
    "most_popular_id = sorted_df.loc[0][0]\n",
    "most_popular_index = sorted_df[sorted_df['Deviation ID'] == f'{most_popular_id}'].index[0]\n",
    "print(sorted_df[sorted_df['Deviation ID'] == f'{most_popular_id}'].loc[most_popular_index][10])\n",
    "display(Image(filename=f'./images/{most_popular_id}.png', width=300))"
   ]
  },
  {
   "cell_type": "code",
   "execution_count": 27,
   "metadata": {},
   "outputs": [
    {
     "name": "stdout",
     "output_type": "stream",
     "text": [
      "fence background snow lit christmas trees tree covered night\n"
     ]
    },
    {
     "data": {
      "image/png": "[encoded data removed]",
      "text/plain": [
       "<IPython.core.display.Image object>"
      ]
     },
     "metadata": {
      "image/png": {
       "width": 400
      }
     },
     "output_type": "display_data"
    }
   ],
   "source": [
    "# deviation with the fourth highest popularity metric\n",
    "# ...choosing the fourth since second and third place are both also \"stamp\" memes like the most popular\n",
    "second_most_popular_id = sorted_df.loc[3][0]\n",
    "second_most_popular_index = sorted_df[sorted_df['Deviation ID'] == f'{second_most_popular_id}'].index[0]\n",
    "print(sorted_df[sorted_df['Deviation ID'] == f'{second_most_popular_id}'].loc[second_most_popular_index][10])\n",
    "display(Image(filename=f'./images/{second_most_popular_id}.png', width=400))"
   ]
  },
  {
   "cell_type": "markdown",
   "metadata": {},
   "source": [
    "In order to observe the data and to see the effects of keywords on popularity, we decided to aggregate all of the popularity data into a single dataframe with only the popularity values paired with keywords. In order to determine the popularity of a keyword, we decided to take the average of the popularities of each keyword and use that value to determine the overall popularity. We also removed all words that appeared less than 3 times in order to remove some inconsistent words that had high popularity rankings that appeared very few times. In order to do this, we used the values from the dictionary unique to create the new dataframe. We also did a log on the data in order to further deal with outliers."
   ]
  },
  {
   "cell_type": "markdown",
   "metadata": {},
   "source": [
    "First let's store the keywords and popularity statistics into one dictionary:"
   ]
  },
  {
   "cell_type": "code",
   "execution_count": 28,
   "metadata": {},
   "outputs": [],
   "source": [
    "# unique is a dict that contains a list of tuples of (Deviation ID, Popularity Metric, Rank) for each unique word in our df.\n",
    "# the frequency of a key (word) is the length.\n",
    "unique = {}\n",
    "for n in range(df.shape[0]):\n",
    "    tokens = word_tokenize(df['Caption'][n])\n",
    "    for word in tokens:\n",
    "        if word in unique:\n",
    "            unique[word].append((df['Deviation ID'][n], df['Popularity Metric'][n], df['Rank'][n]))\n",
    "        else:\n",
    "            # tuple that contains (freq, deviation ID)\n",
    "            unique[word] = [(df['Deviation ID'][n], df['Popularity Metric'][n], df['Rank'][n])]"
   ]
  },
  {
   "cell_type": "code",
   "execution_count": 29,
   "metadata": {},
   "outputs": [
    {
     "data": {
      "text/plain": [
       "[('8F1ED8A1-88A5-861A-F83B-77916A1481A0', 12.476027089304784, 232.0),\n",
       " ('A77528CF-7D8B-734F-09FF-A20F273E1F1F', 7.015633847961964, 317.0),\n",
       " ('7FCBF6C1-783A-4AE4-8322-9991CD34253A', 5.820496637351268, 351.0),\n",
       " ('7E879736-6DBA-5262-6935-8D22F87D8AED', 1.0930396852849613, 726.0),\n",
       " ('5C1F6B9A-2224-E9B4-D7BA-4DB93FE0FEDD', 1.5863297221131412, 620.0),\n",
       " ('6F78458E-4DCA-C156-2566-AE328D9EB766', 3.9502426515777653, 421.0),\n",
       " ('0086BEF0-C182-912F-7CB2-1D743B720A99', 11.729583395254373, 241.0),\n",
       " ('FFC323F3-B917-3DC2-77BB-5242E98BE18D', 3.615618583513566, 439.0),\n",
       " ('CC7A161D-CF1F-B0C9-8D29-D963389B209C', 1.3735208245391868, 670.0),\n",
       " ('75993019-BCDB-7871-83D2-F041ABC813CD', 0.26823879417680296, 1175.0),\n",
       " ('5E0C9B16-41D4-3108-8F1D-127FFBCECE06', 4.111395013393777, 415.0),\n",
       " ('AA879A6F-958B-28D4-3DDA-FB1180CDA983', 0.9120141224503455, 807.0),\n",
       " ('46FE4F99-5800-E659-DC5A-42004B32C686', 0.454380814439307, 1084.0),\n",
       " ('CC01191D-DAB5-C75D-1654-CF4CA0E1DA83', 1.8236498116016189, 576.0),\n",
       " ('386964D4-B1EA-BE42-2009-204D99918BDE', 0.4033652721296864, 1134.0),\n",
       " ('4C2E44F8-BC91-09B0-DEA2-5E2338702747', 0.41702306809415396, 1122.0),\n",
       " ('258BEE3A-D40A-B702-F5C0-5DE3B76380C2', 0.5245992847511285, 1021.0),\n",
       " ('190393A7-89AA-6500-B9E2-6EB4499E0E2F', 0.3770413904517855, 1151.0),\n",
       " ('8D045DA5-4466-7EAE-6750-B5DD9B1979A2', 6.6121068014068465, 327.0),\n",
       " ('83699949-BA34-AA31-0770-7792857E479A', 98.12029746281715, 64.0),\n",
       " ('002447C8-848A-A5CA-86CD-A47D20479580', 0.481109130410562, 1059.0)]"
      ]
     },
     "execution_count": 29,
     "metadata": {},
     "output_type": "execute_result"
    }
   ],
   "source": [
    "# for example:\n",
    "unique['branch']"
   ]
  },
  {
   "cell_type": "markdown",
   "metadata": {},
   "source": [
    "Let's further apply a Term Frequency - Inverse Document Frequency (TFIDF) vectorizer on top of this data to better scale keywords to their uniqueness within our database:"
   ]
  },
  {
   "cell_type": "code",
   "execution_count": 30,
   "metadata": {},
   "outputs": [],
   "source": [
    "tfidf = TfidfVectorizer(sublinear_tf=True, \n",
    "                        analyzer='word', \n",
    "                        tokenizer=word_tokenize, \n",
    "                        stop_words=list(stopwords))"
   ]
  },
  {
   "cell_type": "code",
   "execution_count": 31,
   "metadata": {},
   "outputs": [
    {
     "data": {
      "text/html": [
       "<div>\n",
       "<style scoped>\n",
       "    .dataframe tbody tr th:only-of-type {\n",
       "        vertical-align: middle;\n",
       "    }\n",
       "\n",
       "    .dataframe tbody tr th {\n",
       "        vertical-align: top;\n",
       "    }\n",
       "\n",
       "    .dataframe thead th {\n",
       "        text-align: right;\n",
       "    }\n",
       "</style>\n",
       "<table border=\"1\" class=\"dataframe\">\n",
       "  <thead>\n",
       "    <tr style=\"text-align: right;\">\n",
       "      <th></th>\n",
       "      <th>keyword</th>\n",
       "      <th>popularity</th>\n",
       "    </tr>\n",
       "  </thead>\n",
       "  <tbody>\n",
       "    <tr>\n",
       "      <th>480</th>\n",
       "      <td>quote</td>\n",
       "      <td>869.980506</td>\n",
       "    </tr>\n",
       "    <tr>\n",
       "      <th>479</th>\n",
       "      <td>smiley</td>\n",
       "      <td>593.411431</td>\n",
       "    </tr>\n",
       "    <tr>\n",
       "      <th>478</th>\n",
       "      <td>sleeping</td>\n",
       "      <td>352.326720</td>\n",
       "    </tr>\n",
       "    <tr>\n",
       "      <th>477</th>\n",
       "      <td>planet</td>\n",
       "      <td>258.671443</td>\n",
       "    </tr>\n",
       "    <tr>\n",
       "      <th>476</th>\n",
       "      <td>'s</td>\n",
       "      <td>251.117647</td>\n",
       "    </tr>\n",
       "    <tr>\n",
       "      <th>475</th>\n",
       "      <td>weird</td>\n",
       "      <td>194.716473</td>\n",
       "    </tr>\n",
       "    <tr>\n",
       "      <th>474</th>\n",
       "      <td>microphone</td>\n",
       "      <td>192.109907</td>\n",
       "    </tr>\n",
       "    <tr>\n",
       "      <th>473</th>\n",
       "      <td>door</td>\n",
       "      <td>188.408499</td>\n",
       "    </tr>\n",
       "    <tr>\n",
       "      <th>472</th>\n",
       "      <td>covered</td>\n",
       "      <td>187.608306</td>\n",
       "    </tr>\n",
       "    <tr>\n",
       "      <th>471</th>\n",
       "      <td>fence</td>\n",
       "      <td>184.136424</td>\n",
       "    </tr>\n",
       "    <tr>\n",
       "      <th>470</th>\n",
       "      <td>caption</td>\n",
       "      <td>161.864297</td>\n",
       "    </tr>\n",
       "    <tr>\n",
       "      <th>469</th>\n",
       "      <td>written</td>\n",
       "      <td>155.578847</td>\n",
       "    </tr>\n",
       "    <tr>\n",
       "      <th>468</th>\n",
       "      <td>photo</td>\n",
       "      <td>151.896105</td>\n",
       "    </tr>\n",
       "    <tr>\n",
       "      <th>467</th>\n",
       "      <td>mirror</td>\n",
       "      <td>138.479543</td>\n",
       "    </tr>\n",
       "    <tr>\n",
       "      <th>466</th>\n",
       "      <td>boats</td>\n",
       "      <td>124.801464</td>\n",
       "    </tr>\n",
       "    <tr>\n",
       "      <th>465</th>\n",
       "      <td>picture</td>\n",
       "      <td>118.370176</td>\n",
       "    </tr>\n",
       "    <tr>\n",
       "      <th>464</th>\n",
       "      <td>characters</td>\n",
       "      <td>115.399314</td>\n",
       "    </tr>\n",
       "    <tr>\n",
       "      <th>463</th>\n",
       "      <td>reflection</td>\n",
       "      <td>112.015058</td>\n",
       "    </tr>\n",
       "    <tr>\n",
       "      <th>462</th>\n",
       "      <td>gray</td>\n",
       "      <td>109.321697</td>\n",
       "    </tr>\n",
       "    <tr>\n",
       "      <th>461</th>\n",
       "      <td>object</td>\n",
       "      <td>108.974331</td>\n",
       "    </tr>\n",
       "    <tr>\n",
       "      <th>460</th>\n",
       "      <td>logo</td>\n",
       "      <td>105.821351</td>\n",
       "    </tr>\n",
       "    <tr>\n",
       "      <th>459</th>\n",
       "      <td>closed</td>\n",
       "      <td>91.353676</td>\n",
       "    </tr>\n",
       "    <tr>\n",
       "      <th>458</th>\n",
       "      <td>development</td>\n",
       "      <td>89.674805</td>\n",
       "    </tr>\n",
       "    <tr>\n",
       "      <th>457</th>\n",
       "      <td>text</td>\n",
       "      <td>89.220213</td>\n",
       "    </tr>\n",
       "    <tr>\n",
       "      <th>456</th>\n",
       "      <td>draw</td>\n",
       "      <td>89.159955</td>\n",
       "    </tr>\n",
       "    <tr>\n",
       "      <th>455</th>\n",
       "      <td>says</td>\n",
       "      <td>88.827913</td>\n",
       "    </tr>\n",
       "    <tr>\n",
       "      <th>454</th>\n",
       "      <td>floor</td>\n",
       "      <td>78.220891</td>\n",
       "    </tr>\n",
       "    <tr>\n",
       "      <th>453</th>\n",
       "      <td>reads</td>\n",
       "      <td>70.852012</td>\n",
       "    </tr>\n",
       "    <tr>\n",
       "      <th>452</th>\n",
       "      <td>wind</td>\n",
       "      <td>69.190241</td>\n",
       "    </tr>\n",
       "    <tr>\n",
       "      <th>451</th>\n",
       "      <td>game</td>\n",
       "      <td>67.330770</td>\n",
       "    </tr>\n",
       "    <tr>\n",
       "      <th>450</th>\n",
       "      <td>two</td>\n",
       "      <td>67.317758</td>\n",
       "    </tr>\n",
       "    <tr>\n",
       "      <th>449</th>\n",
       "      <td>bottle</td>\n",
       "      <td>63.373552</td>\n",
       "    </tr>\n",
       "    <tr>\n",
       "      <th>448</th>\n",
       "      <td>center</td>\n",
       "      <td>62.935191</td>\n",
       "    </tr>\n",
       "    <tr>\n",
       "      <th>447</th>\n",
       "      <td>lantern</td>\n",
       "      <td>59.975634</td>\n",
       "    </tr>\n",
       "    <tr>\n",
       "      <th>446</th>\n",
       "      <td>turned</td>\n",
       "      <td>55.985757</td>\n",
       "    </tr>\n",
       "    <tr>\n",
       "      <th>445</th>\n",
       "      <td>lake</td>\n",
       "      <td>54.745364</td>\n",
       "    </tr>\n",
       "    <tr>\n",
       "      <th>444</th>\n",
       "      <td>words</td>\n",
       "      <td>54.257802</td>\n",
       "    </tr>\n",
       "    <tr>\n",
       "      <th>443</th>\n",
       "      <td>sign</td>\n",
       "      <td>53.331143</td>\n",
       "    </tr>\n",
       "    <tr>\n",
       "      <th>442</th>\n",
       "      <td>stages</td>\n",
       "      <td>51.327351</td>\n",
       "    </tr>\n",
       "    <tr>\n",
       "      <th>441</th>\n",
       "      <td>feathers</td>\n",
       "      <td>50.982857</td>\n",
       "    </tr>\n",
       "  </tbody>\n",
       "</table>\n",
       "</div>"
      ],
      "text/plain": [
       "         keyword  popularity\n",
       "480        quote  869.980506\n",
       "479       smiley  593.411431\n",
       "478     sleeping  352.326720\n",
       "477       planet  258.671443\n",
       "476           's  251.117647\n",
       "475        weird  194.716473\n",
       "474   microphone  192.109907\n",
       "473         door  188.408499\n",
       "472      covered  187.608306\n",
       "471        fence  184.136424\n",
       "470      caption  161.864297\n",
       "469      written  155.578847\n",
       "468        photo  151.896105\n",
       "467       mirror  138.479543\n",
       "466        boats  124.801464\n",
       "465      picture  118.370176\n",
       "464   characters  115.399314\n",
       "463   reflection  112.015058\n",
       "462         gray  109.321697\n",
       "461       object  108.974331\n",
       "460         logo  105.821351\n",
       "459       closed   91.353676\n",
       "458  development   89.674805\n",
       "457         text   89.220213\n",
       "456         draw   89.159955\n",
       "455         says   88.827913\n",
       "454        floor   78.220891\n",
       "453        reads   70.852012\n",
       "452         wind   69.190241\n",
       "451         game   67.330770\n",
       "450          two   67.317758\n",
       "449       bottle   63.373552\n",
       "448       center   62.935191\n",
       "447      lantern   59.975634\n",
       "446       turned   55.985757\n",
       "445         lake   54.745364\n",
       "444        words   54.257802\n",
       "443         sign   53.331143\n",
       "442       stages   51.327351\n",
       "441     feathers   50.982857"
      ]
     },
     "execution_count": 31,
     "metadata": {},
     "output_type": "execute_result"
    }
   ],
   "source": [
    "vectorized_tokens = tfidf.fit_transform(df['Caption'])\n",
    "vectorized_tokens = pd.DataFrame(vectorized_tokens.toarray(),\n",
    "                                 columns=tfidf.get_feature_names_out())\n",
    "vectorized_tokens['Deviation ID'] = df['Deviation ID']\n",
    "vectorized_tokens = vectorized_tokens.set_index('Deviation ID')\n",
    "\n",
    "words = []\n",
    "pop_val = []\n",
    "sums = 0.0\n",
    "for word in unique:\n",
    "    if(len(unique[word]) > 2):\n",
    "        sums = 0.0\n",
    "        words.append(word)\n",
    "        for values in unique[word]:\n",
    "            sums += values[1] * vectorized_tokens.loc[values[0],word]\n",
    "        pop_val.append(sums/len(unique[word]))\n",
    "keyword_pop = pd.DataFrame(list(zip(words, pop_val)))\n",
    "keyword_pop.columns = ['keyword', 'popularity']\n",
    "keyword_pop = keyword_pop.sort_values('popularity').reset_index(drop=True)\n",
    "\n",
    "sorted_keyword_pop = keyword_pop.sort_values('popularity', ascending=False)\n",
    "sorted_keyword_pop.head(40)"
   ]
  },
  {
   "cell_type": "code",
   "execution_count": 32,
   "metadata": {},
   "outputs": [
    {
     "data": {
      "text/html": [
       "<div>\n",
       "<style scoped>\n",
       "    .dataframe tbody tr th:only-of-type {\n",
       "        vertical-align: middle;\n",
       "    }\n",
       "\n",
       "    .dataframe tbody tr th {\n",
       "        vertical-align: top;\n",
       "    }\n",
       "\n",
       "    .dataframe thead th {\n",
       "        text-align: right;\n",
       "    }\n",
       "</style>\n",
       "<table border=\"1\" class=\"dataframe\">\n",
       "  <thead>\n",
       "    <tr style=\"text-align: right;\">\n",
       "      <th></th>\n",
       "      <th>keyword</th>\n",
       "      <th>popularity</th>\n",
       "    </tr>\n",
       "  </thead>\n",
       "  <tbody>\n",
       "    <tr>\n",
       "      <th>196</th>\n",
       "      <td>branch</td>\n",
       "      <td>7.769796</td>\n",
       "    </tr>\n",
       "  </tbody>\n",
       "</table>\n",
       "</div>"
      ],
      "text/plain": [
       "    keyword  popularity\n",
       "196  branch    7.769796"
      ]
     },
     "execution_count": 32,
     "metadata": {},
     "output_type": "execute_result"
    }
   ],
   "source": [
    "words = []\n",
    "pop_val = []\n",
    "sums = 0.0\n",
    "for word in unique:\n",
    "    words.append(word)\n",
    "    for values in unique[word]:\n",
    "        sums += values[1]\n",
    "    # add only if appears more than 3 times\n",
    "    if (len(unique[word]) > 2):\n",
    "        pop_val.append(sums/(len(unique[word])))\n",
    "    sums = 0.0\n",
    "keyword_pop = pd.DataFrame(list(zip(words, pop_val)))\n",
    "keyword_pop.columns = ['keyword', 'popularity']\n",
    "keyword_pop = keyword_pop.sort_values('popularity').reset_index(drop=True)\n",
    "keyword_pop.loc[keyword_pop['keyword'] == 'branch']"
   ]
  },
  {
   "cell_type": "markdown",
   "metadata": {},
   "source": [
    "We finally do a normalization involving logarithmic scaling and graph our findings:"
   ]
  },
  {
   "cell_type": "code",
   "execution_count": 33,
   "metadata": {},
   "outputs": [
    {
     "data": {
      "text/html": [
       "<div>\n",
       "<style scoped>\n",
       "    .dataframe tbody tr th:only-of-type {\n",
       "        vertical-align: middle;\n",
       "    }\n",
       "\n",
       "    .dataframe tbody tr th {\n",
       "        vertical-align: top;\n",
       "    }\n",
       "\n",
       "    .dataframe thead th {\n",
       "        text-align: right;\n",
       "    }\n",
       "</style>\n",
       "<table border=\"1\" class=\"dataframe\">\n",
       "  <thead>\n",
       "    <tr style=\"text-align: right;\">\n",
       "      <th></th>\n",
       "      <th>keyword</th>\n",
       "      <th>popularity</th>\n",
       "      <th>logval</th>\n",
       "    </tr>\n",
       "  </thead>\n",
       "  <tbody>\n",
       "    <tr>\n",
       "      <th>0</th>\n",
       "      <td>knife</td>\n",
       "      <td>0.568332</td>\n",
       "      <td>-0.565050</td>\n",
       "    </tr>\n",
       "    <tr>\n",
       "      <th>1</th>\n",
       "      <td>roof</td>\n",
       "      <td>0.605296</td>\n",
       "      <td>-0.502038</td>\n",
       "    </tr>\n",
       "    <tr>\n",
       "      <th>2</th>\n",
       "      <td>trail</td>\n",
       "      <td>0.611426</td>\n",
       "      <td>-0.491961</td>\n",
       "    </tr>\n",
       "    <tr>\n",
       "      <th>3</th>\n",
       "      <td>time</td>\n",
       "      <td>0.631511</td>\n",
       "      <td>-0.459640</td>\n",
       "    </tr>\n",
       "    <tr>\n",
       "      <th>4</th>\n",
       "      <td>owls</td>\n",
       "      <td>0.666431</td>\n",
       "      <td>-0.405818</td>\n",
       "    </tr>\n",
       "    <tr>\n",
       "      <th>...</th>\n",
       "      <td>...</td>\n",
       "      <td>...</td>\n",
       "      <td>...</td>\n",
       "    </tr>\n",
       "    <tr>\n",
       "      <th>476</th>\n",
       "      <td>table</td>\n",
       "      <td>684.624802</td>\n",
       "      <td>6.528871</td>\n",
       "    </tr>\n",
       "    <tr>\n",
       "      <th>477</th>\n",
       "      <td>cut</td>\n",
       "      <td>708.691812</td>\n",
       "      <td>6.563421</td>\n",
       "    </tr>\n",
       "    <tr>\n",
       "      <th>478</th>\n",
       "      <td>hands</td>\n",
       "      <td>738.249894</td>\n",
       "      <td>6.604282</td>\n",
       "    </tr>\n",
       "    <tr>\n",
       "      <th>479</th>\n",
       "      <td>smile</td>\n",
       "      <td>1688.652855</td>\n",
       "      <td>7.431686</td>\n",
       "    </tr>\n",
       "    <tr>\n",
       "      <th>480</th>\n",
       "      <td>arms</td>\n",
       "      <td>2378.875221</td>\n",
       "      <td>7.774383</td>\n",
       "    </tr>\n",
       "  </tbody>\n",
       "</table>\n",
       "<p>481 rows × 3 columns</p>\n",
       "</div>"
      ],
      "text/plain": [
       "    keyword   popularity    logval\n",
       "0     knife     0.568332 -0.565050\n",
       "1      roof     0.605296 -0.502038\n",
       "2     trail     0.611426 -0.491961\n",
       "3      time     0.631511 -0.459640\n",
       "4      owls     0.666431 -0.405818\n",
       "..      ...          ...       ...\n",
       "476   table   684.624802  6.528871\n",
       "477     cut   708.691812  6.563421\n",
       "478   hands   738.249894  6.604282\n",
       "479   smile  1688.652855  7.431686\n",
       "480    arms  2378.875221  7.774383\n",
       "\n",
       "[481 rows x 3 columns]"
      ]
     },
     "execution_count": 33,
     "metadata": {},
     "output_type": "execute_result"
    },
    {
     "data": {
      "image/png": "[encoded data removed]",
      "text/plain": [
       "<Figure size 640x480 with 1 Axes>"
      ]
     },
     "metadata": {},
     "output_type": "display_data"
    }
   ],
   "source": [
    "log_series = np.log(keyword_pop.popularity)\n",
    "popularity_graph = sns.histplot(log_series)\n",
    "\n",
    "# setting titles for clarification\n",
    "popularity_graph.set_title('Keyword Popularity vs. Keyword Frequency')\n",
    "popularity_graph.set_xlabel('Keyword popularity')\n",
    "popularity_graph.set_ylabel('Keyword frequency')\n",
    "\n",
    "keyword_pop['logval'] = log_series\n",
    "keyword_pop"
   ]
  },
  {
   "cell_type": "markdown",
   "metadata": {},
   "source": [
    "From this graph, the most \"popular\" keywords (such as \"arms\") appear the **LEAST** in frequency, whereas lower to middle end popular keywords are more frequent in DeviantArt posts. Overall, the graph of popular keywords and their frequency is normally distributed. \n",
    "\n",
    "It should be noted that the aggregation of keyword frequency is made up of multiple keywords with similar popularity ratings, giving the rise of either low, middle, or high frequency. Furthermore, the most popular keywords show up in the least amount of DeviantArt posts, so we can see that keywords may possibly *not* drive a post's popularity overall."
   ]
  },
  {
   "cell_type": "markdown",
   "metadata": {},
   "source": [
    "## Machine Learning\n",
    "With that said, let's see if with a machine learning model whether a predictive model can be generated or not:"
   ]
  },
  {
   "cell_type": "code",
   "execution_count": 34,
   "metadata": {},
   "outputs": [],
   "source": [
    "# TODO: transfer Ethan's findings"
   ]
  },
  {
   "cell_type": "markdown",
   "metadata": {},
   "source": [
    "# Ethics & Privacy"
   ]
  },
  {
   "cell_type": "markdown",
   "metadata": {},
   "source": [
    "There are a number of ethical concerns regarding this research question that we must be mindful of as we analyze data. The most obvious issue is that we are tagging artwork as unpopular by virtue of not identifying said artwork as popular. However, this should not be a strong issue as we are not presenting identifying pieces of information of specific pieces of artwork or individual artists, so it should not be possible to label a specific artwork or artist as “unpopular”.\n",
    "\n",
    "In terms of normalization, a possible solution would be to take a ratio between the number of likes on the artwork and the number of followers that certain artist has in order to take into account the disparity between larger artists and smaller artists in terms of popularity, as more popular artists would get more likes due to a larger audience. Additionally, it is entirely possible that our analysis may exclude cultural influences of minority groups. Since those residing in developed countries have more leisure time/resources (such as drawing software or drawing e-tablets), it is plausible that most digital art posted to social media is likely from developed countries. Thus, the work we analyze may disproportionately represent artwork and cultural trends of majority groups of developed countries while glossing over minority groups, which tend to be similar across developed countries.\n",
    "\n",
    "Finally, because the artworks are on a public forum, they have consented to allowing their art to be analyzed. The Deviantart TOS states that you cannot “reproduce, distribute, publicly display or perform, or prepare derivative works”, which does not include the use of the artworks for an analytic survey. Although there is no clear-cut solution for this, it serves us well to keep this fact in mind when drawing conclusions upon our analyses."
   ]
  },
  {
   "cell_type": "markdown",
   "metadata": {},
   "source": [
    "# Conclusion & Discussion"
   ]
  },
  {
   "cell_type": "code",
   "execution_count": 35,
   "metadata": {},
   "outputs": [],
   "source": [
    "# TODO"
   ]
  },
  {
   "cell_type": "markdown",
   "metadata": {},
   "source": [
    "# Team Contributions"
   ]
  },
  {
   "cell_type": "code",
   "execution_count": 36,
   "metadata": {},
   "outputs": [],
   "source": [
    "# TODO"
   ]
  }
 ],
 "metadata": {
  "kernelspec": {
   "display_name": "Python 3 (ipykernel)",
   "language": "python",
   "name": "python3"
  },
  "language_info": {
   "codemirror_mode": {
    "name": "ipython",
    "version": 3
   },
   "file_extension": ".py",
   "mimetype": "text/x-python",
   "name": "python",
   "nbconvert_exporter": "python",
   "pygments_lexer": "ipython3",
   "version": "3.11.3"
  }
 },
 "nbformat": 4,
 "nbformat_minor": 2
}
