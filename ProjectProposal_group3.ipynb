{
 "cells": [
  {
   "cell_type": "markdown",
   "id": "a375bae3",
   "metadata": {},
   "source": [
    "# COGS 108: Project Proposal"
   ]
  },
  {
   "cell_type": "markdown",
   "id": "da62e353",
   "metadata": {},
   "source": [
    "## Names"
   ]
  },
  {
   "cell_type": "markdown",
   "id": "2e1fc6aa",
   "metadata": {},
   "source": [
    "- Mariam Bachar (A16217374)\n",
    "- Alexandra Hernandez (A16730685)\n",
    "- Brian Kwon (A16306826)\n",
    "- Andrew Uhm (A16729684)\n",
    "- Ethan Wang (A17229824)"
   ]
  },
  {
   "cell_type": "markdown",
   "id": "96419d8f",
   "metadata": {},
   "source": [
    "## Research Question"
   ]
  },
  {
   "cell_type": "markdown",
   "id": "da8edc9c",
   "metadata": {},
   "source": [
    "Do certain keywords as identified by CLIP correlate with the popularity (as measured by the equivalent of “likes”) that artwork receives on social media?"
   ]
  },
  {
   "cell_type": "markdown",
   "id": "6c3d9d08",
   "metadata": {},
   "source": [
    "### Background and Prior Work"
   ]
  },
  {
   "cell_type": "markdown",
   "id": "7bf3ea87",
   "metadata": {},
   "source": [
    "With the rise of social media in the past decade, Internet users are constantly exposed to different types of media, especially digital art. To interact with them, users can  “like” and “comment” on another’s content, which also notifies the owner of their received feedback. In turn, the algorithm not only encourages users to continue seeing content from the original user, but also similar “liked” content from different users (Lua, 2023). As a result, social media algorithms–despite having the same code throughout–are customized to each user, showing them content that is relevant to them, based on their past interactions with other accounts and users. Furthermore, these processes incorporate machine learning algorithms, such as feature detection and sentiment classification to better pinpoint content and users that an individual will most likely interact with, boosting engagement for both the receiving user–and the social media itself (T.K. et al., 2021).\n",
    "\n",
    "As social media continues to grow, there continues to be several cases done on the usage of social media algorithms and their role in user engagement. Especially with the introduction of new feature detection technologies–and Artificial Intelligence (AI)–the study field has developed exponentially. In Radion Purba et. al. 's “Instagram Post Popularity Trend Analysis and Prediction” (2020) they looked into social media popularity predictions for marketing purposes; particularly, their research methodology discussed provided a similar workflow to our posed research question. They also discussed definitions of popularity, derived from the data collected. However, the main difference is the study done using hashtags (Radion Purba et al., 2020); we would incorporate AI-generated descriptions of relevant artwork. Similarly, Kafritsas's “CLIP: The Most Influential AI Model from OpenAI and How To Use It” (2022)  details the AI software we plan to use for our data generation. It involves the  AI, CLIP, showcasing  examples of its function, and describes common use cases. CLIP is not necessarily as accurate as other supervised learning models and lacks some context interpreting ability. As we plan to use similar AI technologies in our research, Kafritsas’s usage of CLIP primes us for its use in a concise manner while also precautions us on making certain assumptions when making our analyses.\n",
    "\n",
    "**References**\n",
    "1. Lua, A. (2023, April 20). How the Instagram Algorithm Works in 2023: Everything You Need to Know. Buffer Library; Buffer Library. https://buffer.com/library/instagram-feed-algorithm/#how-does-the-instagram-algorithm-work-the-6-key-ranking-factors\n",
    "\n",
    "2. T.K., B., Annavarapu, C. S. R., & Bablani, A. (2021). Machine learning algorithms for social media analysis: A survey. Computer Science Review, 100395. https://doi.org/10.1016/j.cosrev.2021.100395\n",
    "\n",
    "3. Radion Purba, K., Asirvatham, D., & Kumar Murugesan, R. (2020). Instagram Post Popularity Trend Analysis and Prediction using Hashtag, Image Assessment, and User History Features. The International Arab Journal of Information Technology, 1. https://doi.org/10.34028/iajit/18/1/10\n",
    "\n",
    "4. Kafritsas, N. (2022). CLIP: The Most Influential AI Model From OpenAI — And How To Use It. Medium; Towards Data Science. https://towardsdatascience.com/clip-the-most-influential-ai-model-from-openai-and-how-to-use-it-f8ee408958b1"
   ]
  },
  {
   "cell_type": "markdown",
   "id": "31c4d4b6",
   "metadata": {},
   "source": [
    "## Hypothesis"
   ]
  },
  {
   "cell_type": "markdown",
   "id": "dafa190a",
   "metadata": {},
   "source": [
    "We predict that digital artwork that contains certain keywords as predicted by CLIP (painting vs. watercolor vs. digital) will indeed have a positive correlation to popularity on social media. As humans observing what is popular, we notice that certain features tend to repeat themselves across posts, which leads us to believe a correlation will be found."
   ]
  },
  {
   "cell_type": "markdown",
   "id": "8d4effe1",
   "metadata": {},
   "source": [
    "## Data"
   ]
  },
  {
   "cell_type": "markdown",
   "id": "aa1a5d4c",
   "metadata": {},
   "source": [
    "Our ideal dataset would be a representative sample of images both popular and unpopular, and in all genres of art. Our variables would be the image, the caption of an image, and their associated ‘likes’. We would want a decent amount of observations spanning that representative sample aforementioned, somewhere in the ballpark of thousands to tens of thousands. We would collect the data by scraping Instagram, storing the image along with its likes, perhaps by naming the files from 0 to *n*, and  having a CSV file referring to that ID and the number of likes. From there, we would process the images to extract the captions and store that in the CSV as well. \n",
    "\n",
    "In order to get the data we will have to web scrape from several sources including Instagram, Twitter, and Tumblr. This data is different from our ideal as in order to get a distribution from instagram for example, we can only sort on hashtag by popular or recent, meaning we may miss genres if we don’t include their hashtags, and our sample may not include unpopular old posts or may include ‘unripe’ posts. This is similar for Tumblr and Twitter, as they only sort by recent or popular as well, and must include a search subject or else they simply provide a feed to the user which may have its own biases."
   ]
  },
  {
   "cell_type": "markdown",
   "id": "c24d55b1",
   "metadata": {},
   "source": [
    "## Ethics and Privacy"
   ]
  },
  {
   "cell_type": "markdown",
   "id": "8f395f14",
   "metadata": {},
   "source": [
    "At first glance, this research question does not seem to have any ethical or privacy violations that are present. If anything, the only violation of privacy could possibly be using a creator’s art without their permission, but as we are not using the art for personal gain and are just using it as data, I do not think this is that important of an issue. \n",
    "\n",
    "In terms of bias, there possibly could be bias when scraping different social media sites for art, as the user’s previous browsing history could impact the types of results that are searched for. However, if that really becomes an issue of bias, a potential solution could be to create a burner account for any social media site that has no previous history that would have an unbiased feed. Another potential bias could be from the sources of the art, as there are certain groups that post other artists’ art on their accounts (whether it is credited or not). This could potentially inflate certain tags’ popularities due to multiple occurrences or the group accounts having more followers. To hopefully circumvent this issue, a fix could be to try to exclude accounts that post other artists’ art, or maybe even ignore duplicates or close duplicates of certain works of art. \n",
    "\n",
    "Additionally, it is entirely possible that our analysis may exclude cultural influences of minority groups. Since those residing in developed countries have more leisure time/resources (such as drawing software or drawing e-tablets), it is plausible that most digital art posted to social media is likely from developed countries. Thus, the work we analyze may disproportionately represent artwork and cultural trends of majority groups of developed countries while glossing over minority groups, which tend to be similar across developed countries. \n",
    "\n",
    "Although there is no clear-cut solution for this, it serves us well to keep this fact in mind when drawing conclusions upon our analyses."
   ]
  },
  {
   "cell_type": "markdown",
   "id": "ab6e4e47",
   "metadata": {},
   "source": [
    "## Team Expectations"
   ]
  },
  {
   "cell_type": "markdown",
   "id": "71792eee",
   "metadata": {},
   "source": [
    "- In regards to coding; our three CS majors–Brian, Ethan, and Andrew–should be handling most of the coding, with contributions from our other two members, if they are interested in the code.\n",
    "- Mariam and Alexandra can provide an outline for the code (i.e. what needs to be done) and generate analyses for generated data, possibly data wrangle the Kaggle datasets.\n",
    "- In terms of creating/editing writeups, it should be shared work amongst all, but non-coders are willing to take on more writing if coding is heavy. "
   ]
  },
  {
   "cell_type": "markdown",
   "id": "8f6b97bb",
   "metadata": {},
   "source": [
    "## Project Time Proposal"
   ]
  },
  {
   "cell_type": "markdown",
   "id": "3fac40a0",
   "metadata": {},
   "source": [
    "| Meeting Date  | Meeting Time| Completed Before Meeting  | Discuss at Meeting |\n",
    "|---|---|---|---|\n",
    "| 05/02  |  1 PM |  Brainstorm project topic ideas and write them down in the shared Google Doc. | Go through ideas and vote to work on; Discuss ideal dataset(s) and background research on topic; Begin proposal; Assign any remaining sections to be completed by **5/3 deadline** \n",
    "| 05/09 |  1 PM |  Research data sets | Discuss data sets found; Choose best wrangling and analysis methods; Assign analysis roles | \n",
    "| 05/16  | 1 PM  | Import and wrangle data  | Make sure data checkpoints are complete for **05/17 deadline**; Discuss EDA checkpoint, review, and assign tasks   |\n",
    "| 05/30  | 1 PM  | Finalize wrangling/EDA | Polish any EDA-related tasks; EDA Checkpoint due **05/31**; Work on analysis  |\n",
    "| 06/06  | 1 PM  | Complete analysis; have drafts of results, conclusion and discussion ready| Discuss and edit entire project, approaching completion\n",
    "| 06/13  | 1 PM  | Write up of project is completed; Film preparations for project| Discuss and complete final steps/cleanup (if necessary); complete video by **06/16 at 10 AM** |"
   ]
  }
 ],
 "metadata": {
  "kernelspec": {
   "display_name": "Python 3 (ipykernel)",
   "language": "python",
   "name": "python3"
  },
  "language_info": {
   "codemirror_mode": {
    "name": "ipython",
    "version": 3
   },
   "file_extension": ".py",
   "mimetype": "text/x-python",
   "name": "python",
   "nbconvert_exporter": "python",
   "pygments_lexer": "ipython3",
   "version": "3.11.3"
  }
 },
 "nbformat": 4,
 "nbformat_minor": 5
}
