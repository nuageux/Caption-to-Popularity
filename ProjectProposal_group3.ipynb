{
 "cells": [
  {
   "cell_type": "markdown",
   "id": "a375bae3",
   "metadata": {},
   "source": [
    "# COGS 108: Project Proposal"
   ]
  },
  {
   "cell_type": "markdown",
   "id": "da62e353",
   "metadata": {},
   "source": [
    "## Names"
   ]
  },
  {
   "cell_type": "markdown",
   "id": "2e1fc6aa",
   "metadata": {},
   "source": [
    "- Mariam Bachar (A16217374)\n",
    "- Alexandra Hernandez (A16730685)\n",
    "- Brian Kwon (A16306826)\n",
    "- Andrew Uhm (A16729684)\n",
    "- Ethan Wang (A17229824)"
   ]
  },
  {
   "cell_type": "markdown",
   "id": "96419d8f",
   "metadata": {},
   "source": [
    "## Research Question"
   ]
  },
  {
   "cell_type": "markdown",
   "id": "da8edc9c",
   "metadata": {},
   "source": [
    "Do certain feature subjects of digital art correlate with the popularity (as measured by the equivalent of “likes”) that artwork receives on social media?"
   ]
  },
  {
   "cell_type": "markdown",
   "id": "6c3d9d08",
   "metadata": {},
   "source": [
    "### Background and Prior Work"
   ]
  },
  {
   "cell_type": "markdown",
   "id": "7bf3ea87",
   "metadata": {},
   "source": [
    "With the rise of social media in the past decade, Internet users are constantly exposed to different types of media, especially digital art. To interact with them, users can  “like” and “comment” on another’s content, which also notifies the owner of their received feedback. In turn, the algorithm not only encourages users to continue seeing content from the original user, but also similar “liked” content from different users (Lua, 2023). As a result, social media algorithms–despite having the same code throughout–are customized to each user, showing them content that is relevant to them, based on their past interactions with other accounts and users. Furthermore, these processes incorporate machine learning algorithms, such as feature detection and sentiment classification to better pinpoint content and users that an individual will most likely interact with, boosting engagement for both the receiving user–and the social media itself (T.K. et al., 2021).\n",
    "\n",
    "DoorDash delivery workers often work by car and thus opens up the possibility that DoorDash deliveries/orders may be contributing to automobile accidents around the relevant delivery routes. Around the same timeframe from 2019-2022, the number of car accidents have also been steadily increasing[^Carlier]. The goal of this project is to identify whether any significant spatial relationship between DoorDash orders and car accidents exists or not.\n",
    "\n",
    "**References**\n",
    "1. Lua, A. (2023, April 20). How the Instagram Algorithm Works in 2023: Everything You Need to Know. Buffer Library; Buffer Library. https://buffer.com/library/instagram-feed-algorithm/#how-does-the-instagram-algorithm-work-the-6-key-ranking-factors\n",
    "\n",
    "2. T.K., B., Annavarapu, C. S. R., & Bablani, A. (2021). Machine learning algorithms for social media analysis: A survey. Computer Science Review, 100395. https://doi.org/10.1016/j.cosrev.2021.100395"
   ]
  },
  {
   "cell_type": "markdown",
   "id": "543e3fac",
   "metadata": {},
   "source": []
  },
  {
   "cell_type": "markdown",
   "id": "31c4d4b6",
   "metadata": {},
   "source": [
    "## Hypothesis"
   ]
  },
  {
   "cell_type": "markdown",
   "id": "dafa190a",
   "metadata": {},
   "source": [
    "We predict that the number of DoorDash orders in any given location will correlate to an increase in car accidents in that location, regardless of population size. Since DoorDash puts delivery time as a top priority for drivers, it can increase their likelihood of reckless driving. Additionally, a high amount of DoorDash orders to a certain location means more car traffic."
   ]
  },
  {
   "cell_type": "markdown",
   "id": "8d4effe1",
   "metadata": {},
   "source": [
    "## Data"
   ]
  },
  {
   "cell_type": "markdown",
   "id": "aa1a5d4c",
   "metadata": {},
   "source": [
    "The ideal dataset for this question would need to be a sizable sample set (e.g. ≥10 DoorDash orders per zip code), and include attributes such as population density, peak DoorDash hours, and normal traffic conditions for each respective area.\n",
    "\n",
    "(fill in more)"
   ]
  },
  {
   "cell_type": "markdown",
   "id": "c24d55b1",
   "metadata": {},
   "source": [
    "## Ethics and Privacy"
   ]
  },
  {
   "cell_type": "markdown",
   "id": "8f395f14",
   "metadata": {},
   "source": [
    "fill in (andrew and brian?)"
   ]
  },
  {
   "cell_type": "markdown",
   "id": "ab6e4e47",
   "metadata": {},
   "source": [
    "## Team Expectations"
   ]
  },
  {
   "cell_type": "markdown",
   "id": "71792eee",
   "metadata": {},
   "source": [
    "- In regards to coding; our group’s 3 CS majors should be handling most of the coding (Brian, Ethan, Andrew), with contributions from our other 2 if they are interested in the code.\n",
    "- Other 2 (Mariam, Alexandra) can provide an outline for the code (i.e. what needs to be done) and generate analyses for generated data, possibly data wrangle the Kaggle datasets\n",
    "- Should be shared work regarding write ups, but non-coders are willing to take on more writing if coding is heavy. "
   ]
  },
  {
   "cell_type": "markdown",
   "id": "8f6b97bb",
   "metadata": {},
   "source": [
    "## Project Time Proposal"
   ]
  },
  {
   "cell_type": "markdown",
   "id": "3fac40a0",
   "metadata": {},
   "source": [
    "| Meeting Date  | Meeting Time| Completed Before Meeting  | Discuss at Meeting |\n",
    "|---|---|---|---|\n",
    "| 05/02  |  1 PM |  Brainstorm project topic ideas and write them down in the shared Google Doc. | Go through ideas and vote to work on; Discuss ideal dataset(s) and background research on topic; Begin proposal; Assign any remaining sections to be completed by **5/3 deadline** \n",
    "| 05/09 |  1 PM |  Research data sets | Discuss data sets found; Choose best wrangling and analysis methods; Assign analysis roles | \n",
    "| 05/16  | 1 PM  | Import and wrangle data  | Make sure data checkpoints are complete for **05/17 deadline**; Discuss EDA checkpoint, review, and assign tasks   |\n",
    "| 05/30  | 1 PM  | Finalize wrangling/EDA | Polish any EDA-related tasks; EDA Checkpoint due **05/31**; Work on analysis  |\n",
    "| 06/06  | 1 PM  | Complete analysis; have drafts of results, conclusion and discussion ready| Discuss and edit entire project, approaching completion\n",
    "| 06/13  | 1 PM  | Write up of project is completed; Film preparations for project| Discuss and complete final steps/cleanup (if necessary); complete video by **06/16 at 10 AM** |"
   ]
  }
 ],
 "metadata": {
  "kernelspec": {
   "display_name": "Python 3 (ipykernel)",
   "language": "python",
   "name": "python3"
  },
  "language_info": {
   "codemirror_mode": {
    "name": "ipython",
    "version": 3
   },
   "file_extension": ".py",
   "mimetype": "text/x-python",
   "name": "python",
   "nbconvert_exporter": "python",
   "pygments_lexer": "ipython3",
   "version": "3.9.5"
  }
 },
 "nbformat": 4,
 "nbformat_minor": 5
}
