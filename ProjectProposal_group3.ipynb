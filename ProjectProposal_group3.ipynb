{
 "cells": [
  {
   "cell_type": "markdown",
   "id": "a375bae3",
   "metadata": {},
   "source": [
    "# COGS 108: Project Proposal"
   ]
  },
  {
   "cell_type": "markdown",
   "id": "da62e353",
   "metadata": {},
   "source": [
    "## Names"
   ]
  },
  {
   "cell_type": "markdown",
   "id": "2e1fc6aa",
   "metadata": {},
   "source": [
    "- Mariam Bachar (A16217374)\n",
    "- Alexandra Hernandez (A16730685)\n",
    "- Brian Kwon (A16306826)\n",
    "- Andrew Uhm (A16729684)\n",
    "- Ethan Wang (A17229824)"
   ]
  },
  {
   "cell_type": "markdown",
   "id": "96419d8f",
   "metadata": {},
   "source": [
    "## Research Question"
   ]
  },
  {
   "cell_type": "markdown",
   "id": "da8edc9c",
   "metadata": {},
   "source": [
    "Does the amount of DoorDash orders for a certain location correlate with the number of automobile accidents that occur around that location?  In other words, do areas with higher amounts of DoorDash orders report more car accidents?"
   ]
  },
  {
   "cell_type": "markdown",
   "id": "6c3d9d08",
   "metadata": {},
   "source": [
    "### Background and Prior Work"
   ]
  },
  {
   "cell_type": "markdown",
   "id": "7bf3ea87",
   "metadata": {},
   "source": [
    "fill in (alexandra, mariam, and andrew)"
   ]
  },
  {
   "cell_type": "markdown",
   "id": "31c4d4b6",
   "metadata": {},
   "source": [
    "## Hypothesis"
   ]
  },
  {
   "cell_type": "markdown",
   "id": "dafa190a",
   "metadata": {},
   "source": [
    "We predict that the number of DoorDash orders in any given location will correlate to an increase in car accidents in that location, regardless of population size. Since DoorDash puts delivery time as a top priority for drivers, it can increase their likelihood of reckless driving. Additionally, a high amount of DoorDash orders to a certain location means more car traffic."
   ]
  },
  {
   "cell_type": "markdown",
   "id": "8d4effe1",
   "metadata": {},
   "source": [
    "## Data"
   ]
  },
  {
   "cell_type": "markdown",
   "id": "aa1a5d4c",
   "metadata": {},
   "source": [
    "The ideal dataset for this question would need to be a sizable sample set (e.g. ≥10 DoorDash orders per zip code), and include attributes such as population density, peak DoorDash hours, and normal traffic conditions for each respective area.\n",
    "\n",
    "(fill in more)"
   ]
  },
  {
   "cell_type": "markdown",
   "id": "c24d55b1",
   "metadata": {},
   "source": [
    "## Ethics and Privacy"
   ]
  },
  {
   "cell_type": "markdown",
   "id": "8f395f14",
   "metadata": {},
   "source": [
    "fill in (andrew and brian?)"
   ]
  },
  {
   "cell_type": "markdown",
   "id": "ab6e4e47",
   "metadata": {},
   "source": [
    "## Team Expectations"
   ]
  },
  {
   "cell_type": "markdown",
   "id": "71792eee",
   "metadata": {},
   "source": [
    "- In regards to coding; our group’s 3 CS majors should be handling most of the coding (Brian, Ethan, Andrew), with contributions from our other 2 if they are interested in the code.\n",
    "- Other 2 (Mariam, Alexandra) can provide an outline for the code (i.e. what needs to be done) and generate analyses for generated data, possibly data wrangle the Kaggle datasets\n",
    "- Should be shared work regarding write ups, but non-coders are willing to take on more writing if coding is heavy. "
   ]
  },
  {
   "cell_type": "markdown",
   "id": "8f6b97bb",
   "metadata": {},
   "source": [
    "## Project Time Proposal"
   ]
  },
  {
   "cell_type": "markdown",
   "id": "3fac40a0",
   "metadata": {},
   "source": [
    "fill in (mariam)"
   ]
  }
 ],
 "metadata": {
  "kernelspec": {
   "display_name": "Python 3 (ipykernel)",
   "language": "python",
   "name": "python3"
  },
  "language_info": {
   "codemirror_mode": {
    "name": "ipython",
    "version": 3
   },
   "file_extension": ".py",
   "mimetype": "text/x-python",
   "name": "python",
   "nbconvert_exporter": "python",
   "pygments_lexer": "ipython3",
   "version": "3.10.9"
  }
 },
 "nbformat": 4,
 "nbformat_minor": 5
}
